{
 "cells": [
  {
   "cell_type": "markdown",
   "metadata": {},
   "source": [
    "# Partitions"
   ]
  },
  {
   "cell_type": "markdown",
   "metadata": {},
   "source": [
    "## disjoint \n",
    "if the intersection is empty (A ∩ B = ∅)\n",
    "\n",
    "## pairwise disjoint\n",
    "A sequence of sets, A1, A2, ..., An, where every pair of distinct sets in the sequence is disjoint (i.e., Ai ∩ Aj = ∅ for any i and j in the range from 1 through n where i ≠ j)."
   ]
  },
  {
   "cell_type": "markdown",
   "metadata": {},
   "source": [
    "## for non-empty set\n",
    "A1, A2, ...,An is a partition for a non-empty set A if all of the following conditions hold:\n",
    "- For all i, Ai ⊆ A.\n",
    "- For all i, Ai ≠ ∅\n",
    "- A1, A2, ...,An are pairwise disjoint.\n",
    "- A = A1 ∪ A2 ∪ ... ∪ An"
   ]
  }
 ],
 "metadata": {
  "language_info": {
   "name": "python"
  },
  "orig_nbformat": 4
 },
 "nbformat": 4,
 "nbformat_minor": 2
}
