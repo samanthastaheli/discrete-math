{
 "cells": [
  {
   "cell_type": "markdown",
   "metadata": {},
   "source": [
    "# Binary Relations"
   ]
  },
  {
   "cell_type": "markdown",
   "metadata": {},
   "source": [
    "## Reflexive\n",
    "Every element is related to itself. \n",
    "\n",
    "$\\forall \\in A(a,b) \\ aRb$\n",
    "\n",
    "$\\forall \\in A \\ aRa$\n",
    "\n",
    "Reflexive is a universal statement."
   ]
  },
  {
   "cell_type": "markdown",
   "metadata": {},
   "source": [
    "## Anti-reflexive\n",
    "_aka irreflexive_\n",
    "\n",
    "Every element is **not** related to itself. \n",
    "\n",
    "$\\forall \\in A((a,a) \\notin R)$\n",
    "\n",
    "$\\forall \\in A \\neg(aRa)$\n",
    "\n",
    "Anti-reflexive is also a universal statement."
   ]
  },
  {
   "cell_type": "markdown",
   "metadata": {},
   "source": [
    "## Symmetric\n",
    "If $(a,b) \\in A$ whenever $(a,b) \\in$ for all $a,b \\in A$\n",
    "\n",
    "$\\forall a \\forall b ((a,b) \\in R \\rightarrow (b,a) \\in R)$\n",
    "\n",
    "$\\forall a \\forall b (aRb \\rightarrow bRa)$\n",
    "\n",
    "If a is related to b, then b is related to a.\n",
    "Also symmetric if a is not related to b and b is not related to a.\n",
    "\n",
    "Either... \n",
    "- $aRb$ and $bRa$ is true\n",
    "- $aRb$ and $bRa$ neither are true (is false)\n",
    "\n",
    "### example\n",
    "\n",
    "R = {(1,1), (1,2), (2,1)}"
   ]
  },
  {
   "cell_type": "markdown",
   "metadata": {},
   "source": [
    "## Anti-symmetric\n",
    "If  $a \\ and \\ b \\in A$, $a \\neq b$, then $aRb$ and $bRa$ cannot be true.\n",
    "\n",
    "$\\forall a \\forall b (((a,b) \\in R \\land (b,a) \\in R) \\rightarrow (a = b))$\n",
    "\n",
    "$\\forall a \\forall b ((aRb \\land bRa) \\rightarrow (a = b))$\n",
    "\n",
    "### example"
   ]
  },
  {
   "cell_type": "markdown",
   "metadata": {},
   "source": [
    "## Transitive\n",
    "If whenever $(a,b) \\in R$ and $(b,c) \\in R$ then $(a,c) \\in R$.\n",
    "\n",
    "$\\forall a \\forall b \\forall c (((a,b) \\in R \\land (b,c) \\in R) \\rightarrow (a,c) \\in R)$\n",
    "\n",
    "$\\forall a \\forall b \\forall c ((aRb \\land bRc) \\rightarrow aRc)$\n",
    "\n",
    "If a is related to b and b is related to c, then a is related to c.\n",
    "\n",
    "### example\n",
    "\n",
    "R = {(1,1), (1,2), (1,3), (2,1), (2,2), (2,3)}\n",
    "R = {(1,2)}"
   ]
  },
  {
   "cell_type": "markdown",
   "metadata": {},
   "source": [
    "## Which of the binary relations properties apply to R?\n",
    "\n",
    "A = {1,2,3,4,5}\n",
    "\n",
    "R = {(a,b) | a + b = 6}\n",
    "\n",
    "R = {(1,5), (2,4), (3,3), (4,2), (5,1)}\n",
    "\n",
    "- Reflective\n",
    "    - no it doesn't contain \n",
    "- Anti-reflexive\n",
    "    - no\n",
    "- Symmetric\n",
    "    - yes\n",
    "- Anti-symmetric\n",
    "    - no\n",
    "- Transitive \n",
    "    - no"
   ]
  }
 ],
 "metadata": {
  "language_info": {
   "name": "python"
  },
  "orig_nbformat": 4
 },
 "nbformat": 4,
 "nbformat_minor": 2
}
