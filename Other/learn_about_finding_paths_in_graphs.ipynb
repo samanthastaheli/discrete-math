{
  "cells": [
    {
      "cell_type": "markdown",
      "metadata": {
        "id": "0S66g0g0QTu7"
      },
      "source": [
        "# <font color=blue>Learn About Finding Paths in Graphs</font>\n",
        "## <font color=blue>Teach One Another</font>\n"
      ]
    },
    {
      "cell_type": "markdown",
      "metadata": {
        "id": "CcRzN9i8xW1t"
      },
      "source": [
        "## <font color=red>Graph Searching</font>"
      ]
    },
    {
      "cell_type": "markdown",
      "metadata": {
        "id": "3wVc6vmaxYEF"
      },
      "source": [
        "Finding paths in graphs is one of the main applications of graph theory. Various graph-searching algorithms come into play, the best known of these are depth-first search and breadth-first search."
      ]
    },
    {
      "cell_type": "markdown",
      "metadata": {
        "id": "2Lmt2NqaxaVo"
      },
      "source": [
        "### Depth-First Search"
      ]
    },
    {
      "cell_type": "code",
      "execution_count": null,
      "metadata": {
        "id": "3Qp2wj73V6gu"
      },
      "outputs": [],
      "source": [
        "def find_node_adjacencies(N, L):\n",
        "  adjacencies = dict()\n",
        "  for node in N:\n",
        "    adjacent_nodes = set()\n",
        "    for link in L:\n",
        "      if node == link[0]:\n",
        "        adjacent_nodes.add(link[1])\n",
        "      if node == link[1]:\n",
        "        adjacent_nodes.add(link[0])\n",
        "    adjacencies[node] = adjacent_nodes\n",
        "  return adjacencies"
      ]
    },
    {
      "cell_type": "code",
      "source": [
        "# graph example\n",
        "N = [1,2,3,4,5] # nodes\n",
        "L = [(1,2),(2,3),(3,4),(4,5)] # edges\n",
        "\n",
        "find_node_adjacencies(N,L)"
      ],
      "metadata": {
        "id": "8-verAFyfzzO"
      },
      "execution_count": null,
      "outputs": []
    },
    {
      "cell_type": "code",
      "execution_count": null,
      "metadata": {
        "collapsed": true,
        "id": "eRP9nrb2fgKx"
      },
      "outputs": [],
      "source": [
        "# This is a global variable --- global so it gets\n",
        "# incremented correctly in the recursive calls to\n",
        "# the dfs helper function.\n",
        "count = 0"
      ]
    },
    {
      "cell_type": "code",
      "execution_count": null,
      "metadata": {
        "id": "OPzDSeMFQjP5"
      },
      "outputs": [],
      "source": [
        "def DFS(G):\n",
        "  \"\"\"Implements a depth-first search traversal\n",
        "     of a given graph G = (N, L). Returns a\n",
        "     marking dictionary with keys from N and\n",
        "     values being consecutive integers showing\n",
        "     for each node the order it was first\n",
        "     encountered by the DFS traversal.\n",
        "  \"\"\"\n",
        "  N = G[0]\n",
        "  L = G[1]\n",
        "  adjacencies = find_node_adjacencies(N, L)\n",
        "  marked = dict()\n",
        "  global count\n",
        "  count = 0\n",
        "  for node in N:\n",
        "    if not marked.get(node, 0):\n",
        "      dfs(node, adjacencies, marked)\n",
        "  return marked\n",
        "\n",
        "def dfs(node, adjacencies, marked):\n",
        "  \"\"\"Visits recursively all the unvisited nodes\n",
        "     connected to node by a path and numbers them\n",
        "     in the order they are encountered.\n",
        "  \"\"\"\n",
        "  global count\n",
        "  count += 1\n",
        "  marked[node] = count\n",
        "  for n in adjacencies[node]:\n",
        "    if not marked.get(n, 0): # n is not yet marked\n",
        "      dfs(n, adjacencies, marked)"
      ]
    },
    {
      "cell_type": "markdown",
      "metadata": {
        "id": "HDnOHAbNxdXf"
      },
      "source": [
        "### Breadth-First Search"
      ]
    },
    {
      "cell_type": "code",
      "execution_count": null,
      "metadata": {
        "id": "NgxauTIAV-aJ"
      },
      "outputs": [],
      "source": [
        "def BFS(G):\n",
        "  \"\"\"Implements a breadth-first search traversal\n",
        "     of a given graph G = (N, L). Returns a\n",
        "     marking dictionary with keys from N and\n",
        "     values being consecutive integers showing\n",
        "     for each node the order it was first\n",
        "     encountered by the BFS traversal.\n",
        "  \"\"\"\n",
        "  N = G[0]\n",
        "  L = G[1]\n",
        "  adjacencies = find_node_adjacencies(N, L)\n",
        "  marked = dict()\n",
        "  count = 0\n",
        "  for node in N:\n",
        "    if not marked.get(node, 0):\n",
        "      bfs(node, adjacencies, marked, count)\n",
        "  return marked\n",
        "\n",
        "def bfs(node, adjacencies, marked, count):\n",
        "  \"\"\"Visits all the unvisited nodes\n",
        "     connected to node by a path and numbers them\n",
        "     in the order they are encountered.\n",
        "  \"\"\"\n",
        "  count += 1\n",
        "  marked[node] = count\n",
        "  visited = [node]\n",
        "  while len(visited) > 0: # while the list is not empty\n",
        "    first_node = visited[0]\n",
        "    for n in adjacencies[first_node]:\n",
        "      if not marked.get(n, 0): # n is not yet marked\n",
        "        count += 1\n",
        "        marked[n] = count\n",
        "        visited.append(n)\n",
        "    visited.remove(first_node)"
      ]
    },
    {
      "cell_type": "markdown",
      "metadata": {
        "id": "zM_bQzWoxjZL"
      },
      "source": [
        "## For Practice"
      ]
    },
    {
      "cell_type": "markdown",
      "metadata": {
        "id": "R6a9ELN3xpFM"
      },
      "source": [
        "Here is a picture of a small eleven-node seventeen-link graph that you can practice tracing through these algorithms with:"
      ]
    },
    {
      "cell_type": "markdown",
      "metadata": {
        "id": "FWpp8g4XbjJM"
      },
      "source": [
        "![](https://rickneff.github.io/img/eleven-node-seventeen-link-graph.png)\n"
      ]
    },
    {
      "cell_type": "markdown",
      "metadata": {
        "id": "UslUpu9jcYsP"
      },
      "source": [
        "## Weighted or Not?"
      ]
    },
    {
      "cell_type": "markdown",
      "metadata": {
        "id": "WkcLlxz4xt5h"
      },
      "source": [
        "If the links have weights (lengths, distances) attached to them, then finding a minimum-length path is a little more work than if they don&rsquo;t. But even unweighted links can be thought of as having a default weight of one, so that a minimum is achieved by just finding a path with the lowest number of links."
      ]
    },
    {
      "cell_type": "markdown",
      "metadata": {
        "id": "d2QlXCZCxvMK"
      },
      "source": [
        "## Your Tasks"
      ]
    },
    {
      "cell_type": "markdown",
      "metadata": {
        "id": "llZIQgD9xwme"
      },
      "source": [
        "### <font color=red>TODO Set up for Practice</font>"
      ]
    },
    {
      "cell_type": "markdown",
      "metadata": {
        "id": "6aOwZoZUxxsm"
      },
      "source": [
        "* Label each node of the graph.\n",
        "* Create a list of each link (pair of nodes) in the graph."
      ]
    },
    {
      "cell_type": "code",
      "source": [
        "N = [1,2,3,4,5,6,7,8,9,10,11]\n",
        "L = [(1,2),(1,4),(2,3),(2,5),(3,6),(3,7),(3,10),(4,5),(4,9),(4,8),(5,7),(6,10),(7,11),(7,8),(8,9),(9,11)]\n",
        "G = (N,L)\n",
        "DFS(G)"
      ],
      "metadata": {
        "id": "XiY-FxYRgnFF"
      },
      "execution_count": null,
      "outputs": []
    },
    {
      "cell_type": "markdown",
      "metadata": {
        "id": "S-9lB3ZSyCI0"
      },
      "source": [
        "### <font color=red>TODO Trace DFS Algorithm</font>"
      ]
    },
    {
      "cell_type": "markdown",
      "metadata": {
        "id": "8OPU5-M9yEhk"
      },
      "source": [
        "* List the nodes in the order they are visited.\n",
        "* Modify the DFS function to behave as if the documentation string below described it."
      ]
    },
    {
      "cell_type": "code",
      "execution_count": null,
      "metadata": {
        "id": "2XQNHqQSyxQD"
      },
      "outputs": [],
      "source": [
        "  \"\"\"Implements a depth-first search traversal\n",
        "     of a given graph G = (N, L). Returns a list\n",
        "     of nodes in the order they were first\n",
        "     encountered by the DFS traversal.\n",
        "  \"\"\""
      ]
    },
    {
      "cell_type": "markdown",
      "metadata": {
        "id": "X07RPGMoyF35"
      },
      "source": [
        "### <font color=red>TODO Trace BFS Algorithm</font>"
      ]
    },
    {
      "cell_type": "markdown",
      "metadata": {
        "id": "lbGx4rjmyGYw"
      },
      "source": [
        "* List the nodes in the order they are visited.\n",
        "* Modify the BFS function to behave as if the documentation string below described it."
      ]
    },
    {
      "cell_type": "code",
      "execution_count": null,
      "metadata": {
        "id": "kGRUFT5pzDab"
      },
      "outputs": [],
      "source": [
        "  \"\"\"Implements a breadth-first search traversal\n",
        "     of a given graph G = (N, L). Returns a list\n",
        "     of nodes in the order they were first\n",
        "     encountered by the BFS traversal.\n",
        "  \"\"\""
      ]
    }
  ],
  "metadata": {
    "colab": {
      "name": "learn-about-finding-paths-in-graphs.ipynb",
      "private_outputs": true,
      "provenance": [],
      "collapsed_sections": []
    },
    "kernelspec": {
      "display_name": "Python 3",
      "language": "python",
      "name": "python3"
    },
    "language_info": {
      "codemirror_mode": {
        "name": "ipython",
        "version": 3
      },
      "file_extension": ".py",
      "mimetype": "text/x-python",
      "name": "python",
      "nbconvert_exporter": "python",
      "pygments_lexer": "ipython3",
      "version": "3.9.0"
    }
  },
  "nbformat": 4,
  "nbformat_minor": 0
}