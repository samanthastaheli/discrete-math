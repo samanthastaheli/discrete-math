{
 "cells": [
  {
   "cell_type": "markdown",
   "metadata": {},
   "source": [
    "# Finite State Machines (FSM)"
   ]
  },
  {
   "cell_type": "markdown",
   "metadata": {},
   "source": [
    "### EXAMPLE\n",
    "\n",
    "FSM with output\n",
    "\n",
    "$Q = \\{s0, s1, s2, s3\\}$\n",
    "\n",
    "$q_0 = s0$\n",
    "\n",
    "$I = \\{0,1\\}$\n",
    "\n",
    "$O= \\{0,1\\}$\n",
    "\n",
    "$\\delta = \\{ \\newline (s0,0) \\rightarrow (s1,1), \\newline (s0,1) \\rightarrow (s0,0), \\newline (s1,0) \\rightarrow (s3,1), \\newline (s1,1) \\rightarrow (s0,1), \\newline (s2,0) \\rightarrow (s1,0), \\newline (s2,1) \\rightarrow (s2,1), \\newline (s3,0) \\rightarrow (s2,0), \\newline (s3,1) \\rightarrow (s1,0) \\newline \\}$"
   ]
  },
  {
   "cell_type": "markdown",
   "metadata": {},
   "source": [
    "#### Graph"
   ]
  },
  {
   "cell_type": "markdown",
   "metadata": {},
   "source": [
    "### Code to create a graph"
   ]
  },
  {
   "cell_type": "code",
   "execution_count": null,
   "metadata": {},
   "outputs": [],
   "source": [
    "from graphviz import Source\n",
    "\n",
    "fsm_tree = '''\n",
    "graph tree { \n",
    "  layout=dot\n",
    "  node [shape=circle]\n",
    "  a--b--c--d;\n",
    "  b--e;\n",
    "  e--f;\n",
    "  a--g;\n",
    "}'''\n",
    "Source(fsm_tree)"
   ]
  },
  {
   "cell_type": "markdown",
   "metadata": {},
   "source": [
    "## Finite State Automata"
   ]
  },
  {
   "cell_type": "markdown",
   "metadata": {},
   "source": [
    "### EXAMPLE\n",
    "\n",
    "Draw finite state aitomata that recognize the following:\n",
    "1. The set of bitstrings that begin with 01\n",
    "2. The set of bitstrings that do not contain two consecutive 0s\n",
    "\n"
   ]
  },
  {
   "cell_type": "markdown",
   "metadata": {},
   "source": [
    "### Other\n",
    "\n",
    "youtube channel: computer phile"
   ]
  }
 ],
 "metadata": {
  "kernelspec": {
   "display_name": "Python 3.9.8 32-bit",
   "language": "python",
   "name": "python3"
  },
  "language_info": {
   "codemirror_mode": {
    "name": "ipython",
    "version": 3
   },
   "file_extension": ".py",
   "mimetype": "text/x-python",
   "name": "python",
   "nbconvert_exporter": "python",
   "pygments_lexer": "ipython3",
   "version": "3.9.8"
  },
  "orig_nbformat": 4,
  "vscode": {
   "interpreter": {
    "hash": "61a8a38449cd87730cfc569f03425f5307feff6cab1037d5194af39db80abeb1"
   }
  }
 },
 "nbformat": 4,
 "nbformat_minor": 2
}
