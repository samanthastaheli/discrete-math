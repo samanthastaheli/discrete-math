{
 "cells": [
  {
   "cell_type": "markdown",
   "metadata": {},
   "source": [
    "# Probablility"
   ]
  },
  {
   "cell_type": "markdown",
   "metadata": {},
   "source": [
    "### EXAMPLES\n",
    "\n",
    "##### A coin is flipped four times. For each of the events described below, express the event as a set in roster notation. Each outcome is written as a string of length 4 from {H, T}, such as HHTH. Assuming the coin is a fair coin, give the probability of each event."
   ]
  },
  {
   "cell_type": "markdown",
   "metadata": {},
   "source": [
    "**a) The first and last flips come up heads.**"
   ]
  },
  {
   "cell_type": "code",
   "execution_count": 14,
   "metadata": {},
   "outputs": [
    {
     "name": "stdout",
     "output_type": "stream",
     "text": [
      "[('H', 'H', 'H', 'H'), ('H', 'H', 'H', 'T'), ('H', 'H', 'T', 'H'), ('H', 'H', 'T', 'T'), ('H', 'T', 'H', 'H'), ('H', 'T', 'H', 'T'), ('H', 'T', 'T', 'H'), ('H', 'T', 'T', 'T'), ('T', 'H', 'H', 'H'), ('T', 'H', 'H', 'T'), ('T', 'H', 'T', 'H'), ('T', 'H', 'T', 'T'), ('T', 'T', 'H', 'H'), ('T', 'T', 'H', 'T'), ('T', 'T', 'T', 'H'), ('T', 'T', 'T', 'T')]\n"
     ]
    }
   ],
   "source": [
    "coin = {'H', 'T'}\n",
    "\n",
    "\n",
    "sample_space = [(a,b,c,d) for a in coin for b in coin for c in coin for d in coin]\n",
    "print(sample_space)"
   ]
  },
  {
   "cell_type": "code",
   "execution_count": 15,
   "metadata": {},
   "outputs": [
    {
     "name": "stdout",
     "output_type": "stream",
     "text": [
      "[('H', 'H', 'H', 'H'), ('H', 'H', 'T', 'H'), ('H', 'T', 'H', 'H'), ('H', 'T', 'T', 'H')]\n"
     ]
    }
   ],
   "source": [
    "eventA = [*filter(lambda i: i[0] == 'H' and i[3] == 'H', sample_space)]\n",
    "print(eventA)"
   ]
  },
  {
   "cell_type": "markdown",
   "metadata": {},
   "source": [
    "**(b) There are at least two consecutive flips that come up heads.**"
   ]
  },
  {
   "cell_type": "code",
   "execution_count": 16,
   "metadata": {},
   "outputs": [
    {
     "name": "stdout",
     "output_type": "stream",
     "text": [
      "[('H', 'H', 'H', 'H'), ('H', 'H', 'H', 'T'), ('H', 'H', 'T', 'H'), ('H', 'H', 'T', 'T'), ('H', 'T', 'H', 'H'), ('T', 'H', 'H', 'H'), ('T', 'H', 'H', 'T'), ('T', 'T', 'H', 'H')]\n"
     ]
    }
   ],
   "source": [
    "eventB = [*filter(lambda i: (i[0] == 'H' and i[1] == 'H') or (i[1] == 'H' and i[2] == 'H') or (i[2] == 'H' and i[3] == 'H'), sample_space)]\n",
    "print(eventB)"
   ]
  },
  {
   "cell_type": "markdown",
   "metadata": {},
   "source": [
    "**(c) The first flip comes up tails and there are at least two consecutive flips that come up heads.**"
   ]
  },
  {
   "cell_type": "code",
   "execution_count": 17,
   "metadata": {},
   "outputs": [
    {
     "name": "stdout",
     "output_type": "stream",
     "text": [
      "[('T', 'H', 'H', 'H'), ('T', 'H', 'H', 'T'), ('T', 'T', 'H', 'H')]\n"
     ]
    }
   ],
   "source": [
    "eventC = [*filter(lambda i: i[0] == 'T' and ((i[1] == 'H' and i[2] == 'H') or (i[2] == 'H' and i[3] == 'H')), sample_space)]\n",
    "print(eventC)"
   ]
  },
  {
   "cell_type": "markdown",
   "metadata": {},
   "source": [
    "#### In the experiment where the coin is flipped three times, which set corresponds to the event that at least two of the three flips come up heads?"
   ]
  },
  {
   "cell_type": "markdown",
   "metadata": {},
   "source": [
    "**Sample Space**"
   ]
  },
  {
   "cell_type": "code",
   "execution_count": 29,
   "metadata": {},
   "outputs": [
    {
     "name": "stdout",
     "output_type": "stream",
     "text": [
      "[('H', 'H', 'H'), ('H', 'H', 'T'), ('H', 'T', 'H'), ('H', 'T', 'T'), ('T', 'H', 'H'), ('T', 'H', 'T'), ('T', 'T', 'H'), ('T', 'T', 'T')]\n"
     ]
    }
   ],
   "source": [
    "# options\n",
    "coin = {'H', 'T'}\n",
    "\n",
    "# generate sample space using Cartesian product\n",
    "from itertools import product\n",
    "\n",
    "sample_space = [*product(coin, coin, coin)] # flipping 3 coins\n",
    "\n",
    "print(sample_space)"
   ]
  },
  {
   "cell_type": "markdown",
   "metadata": {},
   "source": [
    "**Event Space**"
   ]
  },
  {
   "cell_type": "code",
   "execution_count": 24,
   "metadata": {},
   "outputs": [
    {
     "name": "stdout",
     "output_type": "stream",
     "text": [
      "[('H', 'H', 'H'), ('H', 'H', 'T'), ('H', 'T', 'H'), ('T', 'H', 'H')]\n"
     ]
    }
   ],
   "source": [
    "# filter out the events in sample space that have at least 2 heads\n",
    "\n",
    "event_space = [*filter(lambda x: x.count('H') >= 2, sample_space)]\n",
    "print(event_space)"
   ]
  },
  {
   "cell_type": "code",
   "execution_count": 30,
   "metadata": {},
   "outputs": [
    {
     "name": "stdout",
     "output_type": "stream",
     "text": [
      "[('H', 'T', 'T'), ('T', 'H', 'T'), ('T', 'T', 'H')]\n"
     ]
    }
   ],
   "source": [
    "# filter out the events in sample space that have at least 2 tails and 1 heads\n",
    "\n",
    "event_space2 = [*filter(lambda x: x.count('T') == 2 and x.count('H') == 1, sample_space)]\n",
    "print(event_space2)"
   ]
  },
  {
   "cell_type": "markdown",
   "metadata": {},
   "source": [
    "**Probability**"
   ]
  },
  {
   "cell_type": "code",
   "execution_count": 31,
   "metadata": {},
   "outputs": [
    {
     "name": "stdout",
     "output_type": "stream",
     "text": [
      "0.375\n"
     ]
    }
   ],
   "source": [
    "# compute the probability\n",
    "\n",
    "probability = len(event_space2) / len(sample_space)\n",
    "print(probability)"
   ]
  },
  {
   "cell_type": "markdown",
   "metadata": {},
   "source": [
    "#### other"
   ]
  },
  {
   "cell_type": "code",
   "execution_count": 16,
   "metadata": {},
   "outputs": [
    {
     "name": "stdout",
     "output_type": "stream",
     "text": [
      "len sample space = 32\n",
      "[('T', 'T', 'T', 'T', 'H'), ('T', 'T', 'T', 'H', 'T'), ('T', 'T', 'H', 'T', 'T'), ('T', 'H', 'T', 'T', 'T'), ('H', 'T', 'T', 'T', 'T')]\n"
     ]
    }
   ],
   "source": [
    "coin = {'H', 'T'}\n",
    "\n",
    "# generate sample space using Cartesian product\n",
    "from itertools import product\n",
    "\n",
    "sample_space10 = [*product(coin, coin, coin, coin, coin)]\n",
    "\n",
    "print(f\"len sample space = {len(sample_space10)}\")\n",
    "\n",
    "event_space4 = [*filter(lambda x: x.count('H') == 1, sample_space10)]\n",
    "print(event_space4)\n",
    "\n",
    "# probability = len(event_space4) / len(sample_space10)\n",
    "# print(probability)"
   ]
  },
  {
   "cell_type": "code",
   "execution_count": 8,
   "metadata": {},
   "outputs": [
    {
     "name": "stdout",
     "output_type": "stream",
     "text": [
      "len sample space = 10000\n",
      "len event space = 5000\n",
      "0.5\n"
     ]
    }
   ],
   "source": [
    "digit = {0,1,2,3,4,5,6,7,8,9}\n",
    "\n",
    "from itertools import product\n",
    "\n",
    "# 4 digit code\n",
    "digit_ss = [*product(digit, digit, digit, digit)] \n",
    "\n",
    "print(f\"len sample space = {len(digit_ss)}\")\n",
    "\n",
    "digit_es = [*filter(lambda x: x[3] % 2 != 0, digit_ss)]\n",
    "print(f\"len event space = {len(digit_es)}\")\n",
    "\n",
    "probability = len(digit_es) / len(digit_ss)\n",
    "print(probability)"
   ]
  },
  {
   "cell_type": "code",
   "execution_count": 12,
   "metadata": {},
   "outputs": [
    {
     "name": "stdout",
     "output_type": "stream",
     "text": [
      "len sample space = 16384\n",
      "len event space = 1287\n",
      "0.07855224609375\n"
     ]
    }
   ],
   "source": [
    "bit = {0,1}\n",
    "\n",
    "from itertools import product\n",
    "\n",
    "# 4 digit code\n",
    "bit_ss = [*product(bit,bit,bit,bit,bit,bit,bit,bit,bit,bit,bit,bit,bit,bit)] \n",
    "\n",
    "print(f\"len sample space = {len(bit_ss)}\")\n",
    "\n",
    "bit_es = [*filter(lambda x: x[0]==1 and x.count(0)==5, bit_ss)]\n",
    "print(f\"len event space = {len(bit_es)}\")\n",
    "\n",
    "probability = len(bit_es) / len(bit_ss)\n",
    "print(probability)"
   ]
  },
  {
   "cell_type": "code",
   "execution_count": 14,
   "metadata": {},
   "outputs": [
    {
     "name": "stdout",
     "output_type": "stream",
     "text": [
      "len sample space = 1024\n",
      "len event space = 1022\n",
      "0.998046875\n"
     ]
    }
   ],
   "source": [
    "bit = {0,1}\n",
    "\n",
    "from itertools import product\n",
    "\n",
    "# 4 digit code\n",
    "bit_ss = [*product(bit,bit,bit,bit,bit,bit,bit,bit,bit,bit)] \n",
    "\n",
    "print(f\"len sample space = {len(bit_ss)}\")\n",
    "\n",
    "bit_es = [*filter(lambda i: \n",
    "                (i[0] == 0 and i[1] == 0) \n",
    "                or (i[1] == 0 and i[2] == 0) \n",
    "                or (i[2] == 0 and i[3] == 0) \n",
    "                or (i[3] == 0 and i[4] == 0) \n",
    "                or (i[4] == 0 and i[5] == 0) \n",
    "                or (i[5] == 0 and i[6] == 0) \n",
    "                or (i[6] == 0 and i[7] == 0) \n",
    "                or (i[7] == 0 and i[8] == 0)\n",
    "                or (i[8] == 0 and i[9] == 0)\n",
    "                or (i[0] == 1 and i[1] == 1) \n",
    "                or (i[1] == 1 and i[2] == 1) \n",
    "                or (i[2] == 1 and i[3] == 1) \n",
    "                or (i[3] == 1 and i[4] == 1) \n",
    "                or (i[4] == 1 and i[5] == 1) \n",
    "                or (i[5] == 1 and i[6] == 1) \n",
    "                or (i[6] == 1 and i[7] == 1) \n",
    "                or (i[7] == 1 and i[8] == 1)\n",
    "                or (i[8] == 1 and i[9] == 1)\n",
    "                , bit_ss)]\n",
    "\n",
    "print(f\"len event space = {len(bit_es)}\")\n",
    "\n",
    "probability = len(bit_es) / len(bit_ss)\n",
    "print(probability)"
   ]
  },
  {
   "cell_type": "markdown",
   "metadata": {},
   "source": [
    "### Dice Probablity"
   ]
  },
  {
   "cell_type": "markdown",
   "metadata": {},
   "source": [
    "**Two dice are rolled. Enter the size of the set that corresponds to the event that both dice are odd.**"
   ]
  },
  {
   "cell_type": "code",
   "execution_count": 28,
   "metadata": {},
   "outputs": [
    {
     "name": "stdout",
     "output_type": "stream",
     "text": [
      "[(1, 1), (1, 2), (1, 3), (1, 4), (1, 5), (1, 6), (2, 1), (2, 2), (2, 3), (2, 4), (2, 5), (2, 6), (3, 1), (3, 2), (3, 3), (3, 4), (3, 5), (3, 6), (4, 1), (4, 2), (4, 3), (4, 4), (4, 5), (4, 6), (5, 1), (5, 2), (5, 3), (5, 4), (5, 5), (5, 6), (6, 1), (6, 2), (6, 3), (6, 4), (6, 5), (6, 6)]\n",
      "36\n"
     ]
    }
   ],
   "source": [
    "dice = {1,2,3,4,5,6}\n",
    "\n",
    "from itertools import product\n",
    "\n",
    "# 2 dice\n",
    "sample_space = [*product(dice, dice)]\n",
    "print(sample_space)\n",
    "print(len(sample_space))"
   ]
  },
  {
   "cell_type": "code",
   "execution_count": 27,
   "metadata": {},
   "outputs": [
    {
     "name": "stdout",
     "output_type": "stream",
     "text": [
      "[(1, 1), (1, 3), (1, 5), (3, 1), (3, 3), (3, 5), (5, 1), (5, 3), (5, 5)]\n",
      "9\n"
     ]
    }
   ],
   "source": [
    "# filter out events in sample space that are only odd numbers\n",
    "\n",
    "event_space = [*filter(lambda x: x[0] % 2 != 0 and x[1] % 2 != 0, sample_space)]\n",
    "print(event_space)\n",
    "print(len(event_space))"
   ]
  },
  {
   "cell_type": "markdown",
   "metadata": {},
   "source": [
    "## Probabilities for union of events"
   ]
  },
  {
   "cell_type": "markdown",
   "metadata": {},
   "source": [
    "$P(E_1 \\cup E_2) = P(E_1) + P(E_2) - P(E_1 \\cap E_2)$"
   ]
  },
  {
   "cell_type": "code",
   "execution_count": 1,
   "metadata": {},
   "outputs": [
    {
     "ename": "SyntaxError",
     "evalue": "invalid syntax (4147322610.py, line 1)",
     "output_type": "error",
     "traceback": [
      "\u001b[1;36m  Input \u001b[1;32mIn [1]\u001b[1;36m\u001b[0m\n\u001b[1;33m    E1 = {x for  x in S if not %3}\u001b[0m\n\u001b[1;37m                               ^\u001b[0m\n\u001b[1;31mSyntaxError\u001b[0m\u001b[1;31m:\u001b[0m invalid syntax\n"
     ]
    }
   ],
   "source": [
    "S = {range(1,100)}\n",
    "E1 = {x for  x in S if not %3}\n",
    "E2 = {x for  x in S if not %5}\n"
   ]
  }
 ],
 "metadata": {
  "kernelspec": {
   "display_name": "Python 3.9.8 32-bit",
   "language": "python",
   "name": "python3"
  },
  "language_info": {
   "codemirror_mode": {
    "name": "ipython",
    "version": 3
   },
   "file_extension": ".py",
   "mimetype": "text/x-python",
   "name": "python",
   "nbconvert_exporter": "python",
   "pygments_lexer": "ipython3",
   "version": "3.9.8"
  },
  "orig_nbformat": 4,
  "vscode": {
   "interpreter": {
    "hash": "61a8a38449cd87730cfc569f03425f5307feff6cab1037d5194af39db80abeb1"
   }
  }
 },
 "nbformat": 4,
 "nbformat_minor": 2
}
