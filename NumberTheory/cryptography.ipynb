{
 "cells": [
  {
   "cell_type": "markdown",
   "metadata": {},
   "source": [
    "# Cryptography"
   ]
  },
  {
   "cell_type": "markdown",
   "metadata": {},
   "source": [
    "## Vocab\n",
    "\n",
    "- sender\n",
    "- receiver\n",
    "- encrypts\n",
    "- plaintext \n",
    "- ciphertext\n",
    "- secret key\n",
    "- decrypt"
   ]
  },
  {
   "cell_type": "markdown",
   "metadata": {},
   "source": [
    "## Uppercase Letters Represented by Number\n",
    "\n",
    "| LETTER | NUMBER |\n",
    "| :---: | :---: |\n",
    "| A | 01 |\n",
    "| B | 02 |\n",
    "| C | 03 |\n",
    "| D | 04 |\n",
    "| E | 05 |\n",
    "| F | 06 |\n",
    "| G | 07 |\n",
    "| H | 08 |\n",
    "| I | 09 |\n",
    "| J | 10 |\n",
    "| K | 11 |\n",
    "| L | 12 |\n",
    "| M | 13 |\n",
    "| N | 14 |\n",
    "| O | 15 |\n",
    "| P | 16 |\n",
    "| Q | 17 |\n",
    "| R | 18 |\n",
    "| S | 19 |\n",
    "| T | 20 |\n",
    "| U | 21 |\n",
    "| V | 22 |\n",
    "| W | 23 |\n",
    "| X | 24 |\n",
    "| Y | 25 |\n",
    "| Z | 26 |\n",
    "\n",
    "\n",
    "\n"
   ]
  },
  {
   "cell_type": "markdown",
   "metadata": {},
   "source": [
    "## Uppercase Letters Represented by Number\n",
    "\n",
    "| A\t| B\t| C\t| D\t| E\t| F\t| G\t| H\t| I\t| J\t|K\t| L\t| M\t| N\t| O\t| P\t| Q\t| R\t| S\t| T\t| U\t| V\t| W\t| X\t| Y\t| Z |\n",
    "| :---: | :---: | :---: | :---: | :---: | :---: | :---: | :---: | :---: | :---: | :---: | :---: | :---: | :---: | :---: | :---: | :---: | :---: | :---: | :---: | :---: | :---: | :---: | :---: | :---: | :---: |\n",
    "| 1\t| 2\t| 3\t| 4\t| 5\t| 6\t| 7\t| 8\t| 9\t| 10 | 11 | 12 | 13 | 14 | 15 | 16 | 17 | 18 | 19 | 20 | 21 | 22 | 23 | 24 | 25\t| 26 |"
   ]
  },
  {
   "cell_type": "markdown",
   "metadata": {},
   "source": [
    "## RSA cryptosystem"
   ]
  }
 ],
 "metadata": {
  "language_info": {
   "name": "python"
  },
  "orig_nbformat": 4
 },
 "nbformat": 4,
 "nbformat_minor": 2
}
