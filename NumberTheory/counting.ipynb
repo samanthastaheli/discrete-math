{
 "cells": [
  {
   "cell_type": "markdown",
   "metadata": {},
   "source": [
    "# Counting"
   ]
  },
  {
   "cell_type": "markdown",
   "metadata": {},
   "source": [
    "## Counting Rules\n",
    "\n",
    "1. sum and product rule\n",
    "2. couting permutations\n",
    "3. counting subsets\n",
    "4. counting by complement\n",
    "5. counting multisets"
   ]
  },
  {
   "cell_type": "code",
   "execution_count": 2,
   "metadata": {},
   "outputs": [
    {
     "name": "stdout",
     "output_type": "stream",
     "text": [
      "1287\n"
     ]
    }
   ],
   "source": [
    "from math import factorial\n",
    "\n",
    "def C(n, r):\n",
    "    # Your code here\n",
    "    return factorial(n) // (factorial(r) * factorial(n-r))\n",
    "\n",
    "print(C(13, 5))"
   ]
  },
  {
   "cell_type": "code",
   "execution_count": 18,
   "metadata": {},
   "outputs": [
    {
     "data": {
      "text/plain": [
       "5"
      ]
     },
     "execution_count": 18,
     "metadata": {},
     "output_type": "execute_result"
    }
   ],
   "source": [
    "5 % 51"
   ]
  },
  {
   "cell_type": "code",
   "execution_count": 7,
   "metadata": {},
   "outputs": [
    {
     "data": {
      "text/plain": [
       "-7"
      ]
     },
     "execution_count": 7,
     "metadata": {},
     "output_type": "execute_result"
    }
   ],
   "source": [
    "(-74) // 11"
   ]
  },
  {
   "cell_type": "code",
   "execution_count": 9,
   "metadata": {},
   "outputs": [
    {
     "name": "stdout",
     "output_type": "stream",
     "text": [
      "10\n",
      "1\n",
      "11\n",
      "11\n",
      "10\n"
     ]
    }
   ],
   "source": [
    "print(5639 % 13)\n",
    "print(5721 % 13)\n",
    "print(5627 % 13)\n",
    "print(5653 % 13)\n",
    "print(5652 % 13)"
   ]
  },
  {
   "cell_type": "code",
   "execution_count": 17,
   "metadata": {},
   "outputs": [
    {
     "name": "stdout",
     "output_type": "stream",
     "text": [
      "0\n",
      "4\n",
      "3\n",
      "3\n",
      "6\n"
     ]
    }
   ],
   "source": [
    "a = 260 % 13\n",
    "b = 5321 % 13\n",
    "c = 42 % 13\n",
    "d = 28 % 13\n",
    "\n",
    "print(a)\n",
    "print(b)\n",
    "print(c)\n",
    "print(c)\n",
    "print(a * b + c * d)\n"
   ]
  },
  {
   "cell_type": "code",
   "execution_count": 23,
   "metadata": {},
   "outputs": [
    {
     "data": {
      "text/plain": [
       "42"
      ]
     },
     "execution_count": 23,
     "metadata": {},
     "output_type": "execute_result"
    }
   ],
   "source": [
    "(42+73) % 73"
   ]
  }
 ],
 "metadata": {
  "kernelspec": {
   "display_name": "Python 3.9.8 32-bit",
   "language": "python",
   "name": "python3"
  },
  "language_info": {
   "codemirror_mode": {
    "name": "ipython",
    "version": 3
   },
   "file_extension": ".py",
   "mimetype": "text/x-python",
   "name": "python",
   "nbconvert_exporter": "python",
   "pygments_lexer": "ipython3",
   "version": "3.9.8"
  },
  "orig_nbformat": 4,
  "vscode": {
   "interpreter": {
    "hash": "61a8a38449cd87730cfc569f03425f5307feff6cab1037d5194af39db80abeb1"
   }
  }
 },
 "nbformat": 4,
 "nbformat_minor": 2
}
