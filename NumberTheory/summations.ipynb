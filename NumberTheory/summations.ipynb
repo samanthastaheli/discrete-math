{
 "cells": [
  {
   "cell_type": "markdown",
   "metadata": {},
   "source": [
    "# Summations"
   ]
  },
  {
   "cell_type": "markdown",
   "metadata": {},
   "source": []
  },
  {
   "cell_type": "code",
   "execution_count": 1,
   "metadata": {},
   "outputs": [
    {
     "name": "stdout",
     "output_type": "stream",
     "text": [
      "5050\n",
      "5050\n"
     ]
    }
   ],
   "source": [
    "from functools import reduce\n",
    "\n",
    "result = reduce(lambda a,b: a + b, range(1,101))\n",
    "print(result)\n",
    "\n",
    "from operator import add\n",
    "\n",
    "result = reduce(add,range(1,101))\n",
    "print(result)"
   ]
  },
  {
   "cell_type": "markdown",
   "metadata": {},
   "source": [
    "## EXAMPLES"
   ]
  },
  {
   "cell_type": "markdown",
   "metadata": {},
   "source": [
    "$\\Sigma^{42}_{i=1} k^2$"
   ]
  },
  {
   "cell_type": "code",
   "execution_count": 6,
   "metadata": {},
   "outputs": [
    {
     "name": "stdout",
     "output_type": "stream",
     "text": [
      "25585\n"
     ]
    }
   ],
   "source": [
    "# using list comprehension\n",
    "n = 42\n",
    "result = sum([k**2 for k in range(1, n+1)])\n",
    "print(result)"
   ]
  },
  {
   "cell_type": "code",
   "execution_count": 9,
   "metadata": {},
   "outputs": [
    {
     "name": "stdout",
     "output_type": "stream",
     "text": [
      "25585\n"
     ]
    }
   ],
   "source": [
    "# using sum and map\n",
    "def f(k):\n",
    "    return k**2\n",
    "\n",
    "f = lambda k: k**2\n",
    "\n",
    "result = sum(map(f, range(1,n+1)))\n",
    "print(result)"
   ]
  },
  {
   "cell_type": "code",
   "execution_count": 7,
   "metadata": {},
   "outputs": [
    {
     "name": "stdout",
     "output_type": "stream",
     "text": [
      "25585\n"
     ]
    }
   ],
   "source": [
    "# using reduce\n",
    "from functools import reduce\n",
    "from operator import add\n",
    "\n",
    "result = reduce(add,map(lambda k: k**2, range(1, n+1)))\n",
    "print(result)"
   ]
  },
  {
   "cell_type": "markdown",
   "metadata": {},
   "source": [
    "$\\Sigma^{4}_{i=-1} k^2$"
   ]
  },
  {
   "cell_type": "code",
   "execution_count": 10,
   "metadata": {},
   "outputs": [
    {
     "name": "stdout",
     "output_type": "stream",
     "text": [
      "14\n"
     ]
    }
   ],
   "source": [
    "# using reduce\n",
    "from functools import reduce\n",
    "from operator import add\n",
    "\n",
    "result = reduce(add,map(lambda k: k**2, range(1, 4)))\n",
    "print(result)"
   ]
  }
 ],
 "metadata": {
  "kernelspec": {
   "display_name": "Python 3.9.8 32-bit",
   "language": "python",
   "name": "python3"
  },
  "language_info": {
   "codemirror_mode": {
    "name": "ipython",
    "version": 3
   },
   "file_extension": ".py",
   "mimetype": "text/x-python",
   "name": "python",
   "nbconvert_exporter": "python",
   "pygments_lexer": "ipython3",
   "version": "3.9.8"
  },
  "orig_nbformat": 4,
  "vscode": {
   "interpreter": {
    "hash": "61a8a38449cd87730cfc569f03425f5307feff6cab1037d5194af39db80abeb1"
   }
  }
 },
 "nbformat": 4,
 "nbformat_minor": 2
}
