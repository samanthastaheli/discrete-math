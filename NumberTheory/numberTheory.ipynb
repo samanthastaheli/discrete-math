{
 "cells": [
  {
   "cell_type": "markdown",
   "metadata": {},
   "source": [
    "# Number Theory"
   ]
  },
  {
   "cell_type": "markdown",
   "metadata": {},
   "source": [
    "## Division"
   ]
  },
  {
   "cell_type": "markdown",
   "metadata": {},
   "source": [
    "Dividing integer by positive integer. Result is a quotient (q) and remainder (r)."
   ]
  },
  {
   "cell_type": "markdown",
   "metadata": {},
   "source": [
    "### integer divison"
   ]
  },
  {
   "cell_type": "code",
   "execution_count": 1,
   "metadata": {},
   "outputs": [
    {
     "name": "stdout",
     "output_type": "stream",
     "text": [
      "2.5\n"
     ]
    }
   ],
   "source": [
    "divisor = 2\n",
    "integer = 5\n",
    "\n",
    "print(integer/divisor)"
   ]
  },
  {
   "cell_type": "markdown",
   "metadata": {},
   "source": [
    "### x divides y\n",
    "\n",
    "- written as x|y\n",
    "- y is multiple of x\n",
    "- x is factor/divisor of y\n",
    "\n",
    "### linear combinations\n",
    "\n",
    "sx + ty is linear combo of x and y"
   ]
  },
  {
   "cell_type": "markdown",
   "metadata": {},
   "source": [
    "### Divisibility and linear combinations\n",
    "\n",
    "For integers x, y, z, if x|y and x|z, then x|(sy + tz) for any integers s and t.\n",
    "\n",
    "- since x|y, then y = kx for some integer k\n",
    "- also, since x|z, then z = jx for some integer j\n",
    "\n",
    "__A linear combination of y and z can be expressed as:__\n",
    "\n",
    "$$sy + tz = s(kx) + t(jx) = (sk + tj)x$$\n",
    "\n",
    "For some integers s and t. Since sy + tz is an integer multiple of x, then x|(sy + tz). "
   ]
  },
  {
   "cell_type": "markdown",
   "metadata": {},
   "source": [
    "### Division Algorithm\n",
    "\n",
    "Let n be an integer and let d be a positive integer. Then, there are unique integers q and r, with 0 ≤ r ≤ d - 1, such that n = qd + r.\n",
    "\n",
    "q = quotient\n",
    "r = remainder"
   ]
  },
  {
   "cell_type": "markdown",
   "metadata": {},
   "source": [
    "#### div operation:\n",
    "\n",
    "$$q = n \\ div \\ d$$"
   ]
  },
  {
   "cell_type": "code",
   "execution_count": 3,
   "metadata": {},
   "outputs": [
    {
     "name": "stdout",
     "output_type": "stream",
     "text": [
      "1\n",
      "1.5\n"
     ]
    }
   ],
   "source": [
    "# q = a div c ceil\n",
    "\n",
    "print(6//4)\n",
    "print(6/4)"
   ]
  },
  {
   "cell_type": "markdown",
   "metadata": {},
   "source": [
    "#### mod operation:\n",
    "\n",
    "$$r = n \\ mod \\ d$$"
   ]
  },
  {
   "cell_type": "code",
   "execution_count": 1,
   "metadata": {},
   "outputs": [
    {
     "name": "stdout",
     "output_type": "stream",
     "text": [
      "2\n"
     ]
    }
   ],
   "source": [
    "# r a mod c ceil\n",
    "\n",
    "print(6%4)"
   ]
  },
  {
   "cell_type": "markdown",
   "metadata": {},
   "source": [
    "### Procedural version of the Division Algorithm"
   ]
  },
  {
   "cell_type": "markdown",
   "metadata": {},
   "source": [
    "## Modular arithmetic"
   ]
  },
  {
   "cell_type": "markdown",
   "metadata": {},
   "source": [
    "### addition mod m\n",
    "\n",
    "mod 5\n",
    "\n",
    "means {0, 1, 2, 3, 4}\n",
    "\n",
    "example of mod 5:\n",
    "\n",
    "- 2 + 2 = 4\n",
    "- 2 + 3 = 0\n",
    "- 3 + 3 = 1\n",
    "\n",
    "like a clock, all answers in space 0-i \n",
    "\n",
    "### multiplication mod m\n",
    "\n",
    "mod 5\n",
    "\n",
    "- 2 x 4 = 3\n",
    "- (2 mod 5) + (3 mod 5) = 0 mod 5\n",
    "\n",
    "### ring\n"
   ]
  },
  {
   "cell_type": "markdown",
   "metadata": {},
   "source": [
    "### congruences\n",
    "\n",
    "__both a and b same m__\n",
    "\n",
    "a is congruent modulo m to b:\n",
    "\n",
    "$a =_m b$\n",
    "\n",
    "a is congruent modulo m to b:\n",
    "\n",
    "$a = b(mod \\ m)$\n",
    "\n",
    "__in python:__\n",
    "\n",
    "a % m == b % m"
   ]
  },
  {
   "cell_type": "markdown",
   "metadata": {},
   "source": [
    "### computing arithmitic opertations mod m\n",
    "\n"
   ]
  },
  {
   "cell_type": "markdown",
   "metadata": {},
   "source": [
    "### hash function"
   ]
  }
 ],
 "metadata": {
  "interpreter": {
   "hash": "61a8a38449cd87730cfc569f03425f5307feff6cab1037d5194af39db80abeb1"
  },
  "kernelspec": {
   "display_name": "Python 3.9.8 32-bit",
   "language": "python",
   "name": "python3"
  },
  "language_info": {
   "codemirror_mode": {
    "name": "ipython",
    "version": 3
   },
   "file_extension": ".py",
   "mimetype": "text/x-python",
   "name": "python",
   "nbconvert_exporter": "python",
   "pygments_lexer": "ipython3",
   "version": "3.9.8"
  },
  "orig_nbformat": 4
 },
 "nbformat": 4,
 "nbformat_minor": 2
}
