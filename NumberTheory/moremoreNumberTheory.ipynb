{
 "cells": [
  {
   "cell_type": "markdown",
   "metadata": {},
   "source": [
    "# Greatest common divisor"
   ]
  },
  {
   "cell_type": "markdown",
   "metadata": {},
   "source": [
    "## GCD THEOROM\n",
    "\n",
    "If x and y are 2 positive integerts and x does not equal 0, then \n",
    "\n",
    "$$gcd(x,y) = gcd(y \\ mod \\ x, x)$$"
   ]
  },
  {
   "cell_type": "markdown",
   "metadata": {},
   "source": [
    "# Euclid's algorithm"
   ]
  },
  {
   "cell_type": "markdown",
   "metadata": {},
   "source": [
    "**Input:** Two positive integers, x and y\n",
    "\n",
    "**Output:** gcd(x, y)\n",
    "\n",
    "If ( y < x )\n",
    "\n",
    "      Swap x and y.\n",
    "\n",
    "r := y mod x.\n",
    "\n",
    "While ( r ≠ 0 )\n",
    "\n",
    "      y := x\n",
    "      x := r.\n",
    "      r := y mod x.\n",
    "      \n",
    "End-while\n",
    "\n",
    "Return( x )"
   ]
  },
  {
   "cell_type": "markdown",
   "metadata": {},
   "source": [
    "### linear combination\n",
    "The gcd of x and y can be linear comboination.\n",
    "\n",
    "If x and y are integers, then they have integer scalars s and t.\n",
    "\n",
    "$$gcd(x,y) = sx + ty$$"
   ]
  },
  {
   "cell_type": "markdown",
   "metadata": {},
   "source": [
    "## Number Representation"
   ]
  },
  {
   "cell_type": "markdown",
   "metadata": {},
   "source": [
    "$$n = a_k \\cdot b^k + a_{k-1} + \\cdot \\cdot \\cdot a_1 \\cdot b^1 + a_0 \\cdot b^0$$\n",
    "\n",
    "b: integer greater than 1 ($b > 1$)\n",
    "\n",
    "k: non-negative integer\n",
    "\n",
    "$a_i$: integer from 0 to b-1\n",
    "\n",
    "$a_k \\neq 0$"
   ]
  },
  {
   "cell_type": "markdown",
   "metadata": {},
   "source": [
    "### EXAMPLE\n",
    "\n",
    "binary number 1011 is decimel number:\n",
    "\n",
    "$$1 \\cdot 2^3 + 0 \\cdot 2^2 + 1 \\cdot 2^1 + 1 \\cdot 2^0 = 11$$"
   ]
  },
  {
   "cell_type": "markdown",
   "metadata": {},
   "source": [
    "### base b expansion of n\n",
    "Is the representation of n base b and is denoted by $(a_k a_{k-1}...a_1 a_0)b$."
   ]
  },
  {
   "cell_type": "markdown",
   "metadata": {},
   "source": [
    "### Hexadecimal\n",
    "\n",
    "| Hex | 0 | 1 | 2 | 3 | 4 | 5 | 6 | 7 | 8 | 9 |A | B | C | D | E | F |\n",
    "| :----: | :----: | :----: | :----: | :----: | :----: | :----: | :----: | :----: | :----: | :----: | :----: | :----: | :----: | :----: | :----: | :----: |\n",
    "| Decimal | 0 | 1 | 2 | 3 | 4 | 5 | 6 | 7 | 8 | 9 |10 | 11 | 12 | 13 | 14 | 15 |\n",
    "| Binary | 0000 | 0001 | 0010 | 0011 | 0100 | 0101 | 0110 | 0111 | 1000 | 1001 | 1010 | 1011 | 1100 | 1101 | 1110 | 1111 |\n"
   ]
  },
  {
   "cell_type": "markdown",
   "metadata": {},
   "source": [
    "## fast exponentiation algorithm\n",
    "\n",
    "**Input:** Positive integers x and y\n",
    "**Output:** xy\n",
    "\n",
    "p := 1     // p holds the partial result\n",
    "\n",
    "s := x     // s holds the current \n",
    "\n",
    "r := y     // r is used to compute the binary expansion of y\n",
    "\n",
    "While ( r > 0 )\n",
    "\n",
    "      If ( r mod 2 = 1 )\n",
    "            p := p·s\n",
    "      s := s·s\n",
    "      r := r div 2\n",
    "      \n",
    "End-while\n",
    "\n",
    "Return(p)"
   ]
  },
  {
   "cell_type": "markdown",
   "metadata": {},
   "source": [
    "<center><img src=\"algo-fast-exp1.png\" width=\"450\"></center>\n",
    "<center><img src=\"algo-fast-exp.png\" width=\"450\"></center>\n",
    "<center><img src=\"fast-exp.png\" width=\"450\"></center>\n"
   ]
  },
  {
   "cell_type": "markdown",
   "metadata": {},
   "source": [
    "**x := y**\n",
    "\n",
    "means x is being defined to be y "
   ]
  }
 ],
 "metadata": {
  "language_info": {
   "name": "python"
  },
  "orig_nbformat": 4
 },
 "nbformat": 4,
 "nbformat_minor": 2
}
