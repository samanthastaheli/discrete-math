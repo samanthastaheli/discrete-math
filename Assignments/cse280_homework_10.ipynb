{
  "cells": [
    {
      "cell_type": "markdown",
      "metadata": {
        "id": "_Mr3AvSgSswx"
      },
      "source": [
        "# <font color=blue>Homework 10 - Probability</font>\n",
        "## <font color=blue>Prepare</font>"
      ]
    },
    {
      "cell_type": "markdown",
      "metadata": {
        "id": "05emUmQd9Van"
      },
      "source": [
        "### Exercise 10.1"
      ]
    },
    {
      "cell_type": "markdown",
      "metadata": {
        "id": "SFWDpQFP9Xux"
      },
      "source": [
        "Ruth and Ed flip a coin to decide who’s going to do the chores. One day Ed complains --- he thinks he loses too often. So Ruth says, &ldquo;OK, this time you flip two coins, and I flip one. If you get more heads than I do, I'll clean the toilets.&rdquo; Ed likes Ruth's display of generosity and says, &ldquo;You're on!&rdquo;\n"
      ]
    },
    {
      "cell_type": "markdown",
      "metadata": {
        "id": "pQmhu3BZ9Z6W"
      },
      "source": [
        "What are his chances?\n"
      ]
    },
    {
      "cell_type": "markdown",
      "metadata": {
        "id": "0tjbuXc4kd7m"
      },
      "source": [
        "#### Your Answer:\n",
        "\n",
        "Ed = (H,H),(H,T),(T,H),(T,T)\n",
        "\n",
        "Ruth = (H),(T)\n",
        "\n",
        "Possible outcomes:\n",
        "1. HH H (Ed wins)\n",
        "2. HH T (Ed wins)\n",
        "3. HT T (Ed wins)\n",
        "4. TH T (Ed wins)\n",
        "5. HT H (Ed loses)\n",
        "6. TH H (Ed loses)\n",
        "7. TT H (Ed loses)\n",
        "8. TT T (Ed loses)\n",
        "\n",
        "Ed has a 50% chance of winning because Ed wins 4 out of the 8 possible outcomes.\n"
      ]
    },
    {
      "cell_type": "markdown",
      "metadata": {
        "id": "lXSjEGQD_wC0"
      },
      "source": [
        "### Exercise 10.2\n"
      ]
    },
    {
      "cell_type": "markdown",
      "metadata": {
        "id": "icVOJ-56_x2K"
      },
      "source": [
        "Answer these questions about rolling standard six-sided dice.\n",
        "\n",
        "1. What is the probability of rolling an even number with one roll of a fair die?\n",
        "\n",
        "2. When you roll two dice, what is the probability that both of them will be sixes?\n",
        "\n",
        "3. When you roll two dice, what is the probability that the sum of the numbers (1-6) on their faces will be a multiple of 3 --- i.e., 3, 6, 9 or 12?\n",
        "\n"
      ]
    },
    {
      "cell_type": "markdown",
      "metadata": {
        "id": "JQONtDHZkd7o"
      },
      "source": [
        "#### Your Answer:\n",
        "\n",
        "\n",
        "\n",
        "1. sample space: $S = \\{1,2,3,4,5,6\\}$\n",
        "\n",
        "  event space: $E = \\{2,4,6\\}$\n",
        "\n",
        "  $P(E) = \\frac{|E|}{|S|} = \\frac{3}{6} = \\frac{1}{2}$\n",
        "\n",
        "2. $\\frac{1}{6} \\times \\frac{1}{6} = \\frac{1}{36}$\n",
        "\n",
        "3. $S = \\{(1, 1),(1,2),(1,3),(1,4),(1,5),(1,6),(2,1),(2,2),(2,3),(2,4),(2,5),(2,6),(3,1),(3,2),(3,3),(3,4),(3,5),(3,6),(4,1),(4,2),(4,3),(4,4),(4,5),(4,6),(5,1),(5,2),(5,3),(5,4),(5,5),(5,6),(6,1),(6,2),(6,3),(6,4),(6,5),(6,6)\\}$ \n",
        "     \n",
        "  $E = \\{(1,2),(2,1),(3,3),(6,3),(3,6),(4,2),(2,4),(5,1),(1,5),(5,4),(4,5)(6,6)\\}$\n",
        "\n",
        "  $P(E) = \\frac{|E|}{|S|} = \\frac{12}{36} = \\frac{1}{3}$\n",
        "\n"
      ]
    },
    {
      "cell_type": "markdown",
      "metadata": {
        "id": "twz7SYA5DByA"
      },
      "source": [
        "### Exercise 10.3\n"
      ]
    },
    {
      "cell_type": "markdown",
      "metadata": {
        "id": "9_-DZWNtDCkf"
      },
      "source": [
        "What is the probability that the following events will occur when randomly selecting a permutation of the $26$ letters (assumed all uppercase) of the alphabet?\n",
        "1. The first 13 letters will be in alphabetical order.\n",
        "2. The first and last letters will be B and Y.\n",
        "3. The letter I will come before both J and K.\n",
        "4. The letters O and P will be next to each other.\n",
        "5. The letters U and V will be separated by at least 23 letters.\n"
      ]
    },
    {
      "cell_type": "markdown",
      "metadata": {
        "id": "bsNk8QG4kd7o"
      },
      "source": [
        "#### Your Answer:\n",
        "\n",
        "1. 13! choices and only 1 can be in the correct order so probability is $\\frac{1}{13}$\n",
        "2. $S = 26!$, $E = 24!$\n",
        "\n",
        "  $P(E) = \\frac{24!}{26!} = \\frac{1}{650}$\n",
        "\n",
        "3. $S = \\{I,J,K\\}$, $E = \\{I\\}$\n",
        "\n",
        "  $P(E) = \\frac{1}{3}$\n",
        "\n",
        "4. Permutaion of 25! because O and P are considered 1 letter. There are 2 ways to permute O and P, OP and PO.\n",
        "\n",
        "  $P(E) = \\frac{2 \\cdot 25!}{26!} = \\frac{1}{13}$\n",
        "\n",
        "5. $P(E) = \\frac{6 \\cdot 24!}{26!} = \\frac{3}{325}$"
      ]
    },
    {
      "cell_type": "code",
      "execution_count": null,
      "metadata": {
        "id": "FvPuNrFLDEE-",
        "colab": {
          "base_uri": "https://localhost:8080/",
          "height": 138
        },
        "outputId": "0ad59735-b5e6-4e7a-d2da-0b70508c4247"
      },
      "outputs": [
        {
          "output_type": "display_data",
          "data": {
            "text/plain": [
              "<IPython.core.display.Markdown object>"
            ],
            "text/markdown": "\n1. For this you don't need a probability space size of 26!.\n2. The number $24!$ will figure into this.\n3. Just consider the relative (not absolute) placements of I, J, and K.\n4. A permutation of $25$ things is featured here.\n5. There are six different ways this can happen.\n"
          },
          "metadata": {}
        }
      ],
      "source": [
        "#@title Hint {display-mode: \"form\"}\n",
        "from IPython.display import Markdown\n",
        "display(Markdown('''\n",
        "1. For this you don't need a probability space size of 26!.\n",
        "2. The number $24!$ will figure into this.\n",
        "3. Just consider the relative (not absolute) placements of I, J, and K.\n",
        "4. A permutation of $25$ things is featured here.\n",
        "5. There are six different ways this can happen.\n",
        "'''))\n"
      ]
    },
    {
      "cell_type": "markdown",
      "metadata": {
        "id": "zRSWtA5skP6O"
      },
      "source": [
        "### Exercise 10.4\n"
      ]
    },
    {
      "cell_type": "markdown",
      "metadata": {
        "id": "aBViLpyBkd7q"
      },
      "source": [
        "Complete 12.3.2 from Addition Exercises in the textbook."
      ]
    },
    {
      "cell_type": "markdown",
      "source": [
        "a. \n",
        "- $p(A) = \\frac{6!}{7!} = \\frac{1}{7}$\n",
        "- $p(B) = \\frac{1}{2}$\n",
        "- $p(C) = \\frac{(7-2)!}{7!} = \\frac{5!}{7!} = \\frac{1}{42}$\n",
        "\n",
        "b. $p(A|C) = \\frac{|A \\cap C|}{|C|} = \\frac{2 \\cdot 3!}{5!} = \\frac{1}{10}$\n",
        "\n",
        "c. $p(B|C) = \\frac{|B \\cap C|}{|C|} = \\frac{1/2 5!}{5!} = \\frac{1}{2}$\n",
        "\n",
        "d. $p(A|B) = \\frac{|A \\cap B|}{|B|} = \\frac{3 \\cdot 5!}{7!/2} = \\frac{1}{7}$\n",
        "\n",
        "e. BC and AB are independent."
      ],
      "metadata": {
        "id": "Kzf71wzPcbro"
      }
    },
    {
      "cell_type": "markdown",
      "metadata": {
        "id": "ACgXr2w_kd7q"
      },
      "source": [
        "### Exercise 10.5\n"
      ]
    },
    {
      "cell_type": "markdown",
      "metadata": {
        "id": "zAqm4JEhkd7q"
      },
      "source": [
        "Suppose you draw a skittle from one of three boxes that you choose at random. The first box contains one purple, three red, and four blue skittles. The second box contains four purple skittles, two red skittles, and two blue skittles. The third box contains two purple, one red, and four blue skittles. What is the probability you selected from the first box if you got a red skittle?"
      ]
    },
    {
      "cell_type": "markdown",
      "metadata": {
        "id": "Op3N-_aqkd7q"
      },
      "source": [
        "#### Your Answer:\n",
        "\n",
        "(P,R,B)\n",
        "- b1 = (1,3,4)\n",
        "- b2 = (4,2,2)\n",
        "- b3 = (2,1,4)\n",
        "\n",
        "$p(B|R) = \\frac{|B \\cap R|}{|R|} = \\frac{1/3 \\cdot 3}{8} = \\frac{1}{2}$\n",
        "\n",
        "Probability of drawing red skittle:\n",
        "\n",
        "$P(R) = \\frac{total red}{total skittles} = \\frac{6}{23}$\n",
        "\n",
        "Probability of drawing from box 1:\n",
        "\n",
        "$P(B) = 1/3$\n",
        "\n",
        "Other probabilities needed:\n",
        "\n",
        "$P(\\overline{F}) = 2/3$\n",
        "\n",
        "$P(R|B) = 3/8$\n",
        "\n",
        "$P(R|\\overline{B}) = 3/15$\n",
        "\n",
        "Bayes' Theorem:\n",
        "\n",
        "$P(B|R) = \\frac{P(R|B)P(B)}{P(R|B)P(B) + P(R|\\overline{B})P(\\overline{B})}$\n",
        "\n",
        "$P(B|R) = \\frac{\\frac{3}{8} \\cdot \\frac{1}{3}}{\\frac{3}{8} \\cdot \\frac{1}{3} + \\frac{3}{15} \\cdot \\frac{2}{3}} = 0.484$\n"
      ]
    },
    {
      "cell_type": "markdown",
      "metadata": {
        "id": "KU_zi9v_kd7q"
      },
      "source": [
        "### Exercise 10.6\n"
      ]
    },
    {
      "cell_type": "markdown",
      "metadata": {
        "id": "jqS6InX3kd7q"
      },
      "source": [
        "Complete 12.6.4 from Additional Exercises in the textbook."
      ]
    },
    {
      "cell_type": "markdown",
      "source": [
        "A fair die is rolled once. Let X be the random variable that denotes the square of the number that shows up on the die. For example, if the die comes up 5, then X = 25. What is E[X]?\n",
        "\n",
        "\n",
        "A fair coin is tossed three times. Let Y be the random variable that denotes the square of the number of heads. For example, in the outcome HTH, there are two heads and Y = 4. What is E[Y]?"
      ],
      "metadata": {
        "id": "b3_b7hkBMUy7"
      }
    },
    {
      "cell_type": "markdown",
      "source": [
        "a. $E[X] = \\sum_{s \\in S}^{} X(s)p(s)$\n",
        "\n",
        "  $S = \\{1,4,8,16,25,36\\}$\n",
        "\n",
        "  $p(s) = \\frac{1}{6}$\n",
        "\n",
        "  $E[X] = (1 \\cdot \\frac{1}{6}) + (4 \\cdot \\frac{1}{6}) + (8 \\cdot \\frac{1}{6}) + (16 \\cdot \\frac{1}{6}) + (25 \\cdot \\frac{1}{6}) + (36 \\cdot \\frac{1}{6}) = \\frac{91}{6}$"
      ],
      "metadata": {
        "id": "ixBhmWNeMQ9Y"
      }
    },
    {
      "cell_type": "markdown",
      "source": [
        "b. $E[Y] = \\sum_{s \\in S}^{} Y(s)p(s)$\n",
        "\n",
        "  $S = \\{HHH,HHT,HTT,TTT,THH,TTH,HTH,THT\\} = \\{9,4,1,0,4,1,4,1\\}$\n",
        "\n",
        "  $p(s) = \\frac{1}{8}$\n",
        "\n",
        "  $E[Y] = (9 \\cdot \\frac{1}{8}) + (4 \\cdot \\frac{1}{8}) + (1 \\cdot \\frac{1}{8}) + (0 \\cdot \\frac{1}{8}) + (4 \\cdot \\frac{1}{8}) + (1 \\cdot \\frac{1}{8}) + (4 \\cdot \\frac{1}{8}) + (1 \\cdot \\frac{1}{8}) = \\frac{24}{8} = 3$\n",
        "  "
      ],
      "metadata": {
        "id": "SUz5vnRfOj7Z"
      }
    },
    {
      "cell_type": "markdown",
      "metadata": {
        "id": "Yf7cOe31kd7q"
      },
      "source": [
        "### Exercise 10.7\n"
      ]
    },
    {
      "cell_type": "markdown",
      "metadata": {
        "id": "pDRAcd2pkQ0y"
      },
      "source": [
        "Yahtzee is a dice game in which players roll five dice and try to get specific combinations of those dice. \n",
        "\n",
        "Calculate the probabilities of getting the following combinations on a single roll of the dice:\n",
        "\n",
        "1. A Yahtzee (five of a kind. All five dice have the same number.)\n",
        "2. Four of a kind (four of the five dice have the same number. The fifth die has a different number.) \n",
        "3. A straight (1,2,3,4,5 or 2,3,4,5,6)\n",
        "4. A full house (two of a kind and three of a kind.)\n",
        "5. Three of a kind \n",
        "6. Two pair\n",
        "7. One pair\n",
        "8. Junk (none of the above)\n",
        "\n",
        "Hint:  First determine how many possible outcomes are in the sample space. Then determine how many outcomes are in each event. Assume all outcomes are equally likely."
      ]
    },
    {
      "cell_type": "markdown",
      "source": [
        "number of outcomes: $|S| = 6^5 = 7776$\n",
        "\n",
        "1. 5 of a kind $= \\{11111, 22222, 33333, 44444, 55555, 66666\\}$\n",
        "\n",
        "  $p(E) = \\frac{|E|}{|S|} = \\frac{6}{7776}$\n",
        "\n",
        "2. four of a kind $= {5 \\choose 4} = 5$ \n",
        "\n",
        "  $|E| = 5 \\times 6 \\times 5 = 150$\n",
        "\n",
        "  $p(E) = \\frac{|E|}{|S|} = \\frac{150}{7776}$\n",
        "\n",
        "3. straight $= \\{12345,23456\\}$\n",
        "\n",
        "  $p(E) = \\frac{|E|}{|S|} = \\frac{2}{7776}$\n",
        "\n",
        "4. full house $= {5 \\choose 2} = 10$ \n",
        "\n",
        "  $|E| = 10 \\cdot 6 = 300$\n",
        "\n",
        "  $p(E) = \\frac{|E|}{|S|} = \\frac{300}{7776}$\n",
        "\n",
        "5. three of a kind $= {5 \\choose 3} = 10$ \n",
        "\n",
        "  $p(E) = \\frac{|E|}{|S|} = \\frac{1200}{7776}$\n",
        "\n",
        "6. $p(E) = \\frac{1800}{7776}$\n",
        "\n",
        "7. $p(E) = \\frac{3600}{7776}$\n",
        "\n",
        "8. $p(E) = \\frac{480}{7776}$"
      ],
      "metadata": {
        "id": "M8Fzrm9FQ59G"
      }
    },
    {
      "cell_type": "markdown",
      "metadata": {
        "id": "KELUtbYpkd7r"
      },
      "source": [
        "### Exercise 10.8\n"
      ]
    },
    {
      "cell_type": "markdown",
      "metadata": {
        "id": "uMSXvzqLkd7r"
      },
      "source": [
        "Verify your answers to the Yahtzee question by using Python to generate all possible outcomes of rolling five dice, then using the Python `filter` function to find each of the 8 Yahtzee special combinations.\n",
        "\n",
        "To use Python, first take the cartesian product of the possible values of a die (1,2,3,4,5,6) five times. This is the sample space representing all the possible throws of five dice. Count this sample space. That is the number of possible outcomes. Now use Python to filter out each of the Yahtzee types from the sample space to determine how many of each there are and the probability of each.\n",
        "\n",
        "Use the Python `filter` function and `lambda` functions to help.\n",
        "\n",
        "Here is some code to help you get started."
      ]
    },
    {
      "cell_type": "code",
      "execution_count": null,
      "metadata": {
        "id": "-MPqNIklkd7r"
      },
      "outputs": [],
      "source": [
        "die = [1,2,3,4,5,6]\n",
        "from itertools import product\n",
        "sample_space = {*product(die, die, die, die, die)}\n",
        "print(len(sample_space)) # This is the number of possible outcomes\n",
        "# print(sample_space)  # Try this, then comment it out.\n",
        "\n",
        "# Calculate a Yahtzee: All five dice are the same number\n",
        "# Use a set here to make sure there is no possiblity of having duplicates\n",
        "yahtzee = {*filter(lambda x: x[0] == x[1] == x[2] == x[3] == x[4], sample_space)} \n",
        "print(f\"yahtzee:            {len(yahtzee)} / {len(sample_space)}: {len(yahtzee) / len(sample_space):.5f}\")\n",
        "\n",
        "\n",
        "# Your code here to calculate the remaining 7 events.\n"
      ]
    },
    {
      "cell_type": "markdown",
      "metadata": {
        "id": "wCNH8tGEkd7r"
      },
      "source": [
        "#### Your Answer:"
      ]
    },
    {
      "cell_type": "markdown",
      "metadata": {
        "id": "HCjgnJwTbbhN"
      },
      "source": [
        "----------------------\n",
        "## Sample Solutions\n",
        "\n",
        "**Note**:\n",
        "Sample solutions are provided in order to help you **learn**. The purpose of these exercises is not to simply turn in the answers, but to take the time and effort to learn and understand the material. You are encouraged to work the problems first, then when you are satisfied that you have the correct answer, look at the sample solution and compare it with yours. "
      ]
    },
    {
      "cell_type": "markdown",
      "metadata": {
        "id": "leFOlnIKkd7r"
      },
      "source": [
        "### Sample Solution 10.1"
      ]
    },
    {
      "cell_type": "markdown",
      "metadata": {
        "id": "FatdzbyVkd7r"
      },
      "source": [
        "Ed's chances are exactly the same!\n",
        "\n",
        "There are eight possibilities, and in only four of them does Ed have more heads than Ruth:\n",
        "\n",
        "| Ed | Ruth | H(Ed) > H(Ruth) |\n",
        "|:--:|:----:|:---------------:|\n",
        "| HH |  H   | Yes |\n",
        "| HT |  H   | No  |\n",
        "| TH |  H   | No  |\n",
        "| TT |  H   | No  |\n",
        "| HH |  T   | Yes |\n",
        "| HT |  T   | Yes |\n",
        "| TH |  T   | Yes |\n",
        "| TT |  T   | No  |"
      ]
    },
    {
      "cell_type": "markdown",
      "metadata": {
        "id": "eYKBHWE9kd7r"
      },
      "source": [
        "### Sample Solution 10.2"
      ]
    },
    {
      "cell_type": "markdown",
      "metadata": {
        "id": "Sr9L8H13kd7r"
      },
      "source": [
        "1. $S = \\{1,2,3,4,5,6\\}$\n",
        "\n",
        "    $E = \\{2,4,6\\}$\n",
        "    \n",
        "    $P(E) = \\frac{|E|}{|S|} = 3/6 = 1/2$.\n",
        "\n",
        "2. $\\frac{1}{6} \\times \\frac{1}{6} = \\frac{1}{36}$.\n",
        "\n",
        "3. There are 36 possibile outcomes in the sample space, all equally likely:\n",
        "\n",
        "    $$ S = \\{(1, 1), (1, 2), (1, 3), (1, 4), (1, 5), (1, 6),\\\n",
        "     (2, 1), (2, 2), (2, 3), (2, 4), (2, 5), (2, 6), \\\n",
        "     (3, 1), (3, 2), (3, 3), (3, 4), (3, 5), (3, 6), \\\n",
        "     (4, 1), (4, 2), (4, 3), (4, 4), (4, 5), (4, 6), \\\n",
        "     (5, 1), (5, 2), (5, 3), (5, 4), (5, 5), (5, 6), \\\n",
        "     (6, 1), (6, 2), (6, 3), (6, 4), (6, 5), (6, 6) \\}\n",
        "    $$ \n",
        "\n",
        "    The event has $12$ possibilities:\n",
        "\n",
        "    $E = \\{(1, 2), (2, 1), (1, 5), (5, 1), (2, 4), (4, 2), (3, 3), (3, 6), (6, 3), (4, 5), (5, 4), (6, 6) \\}$\n",
        "\n",
        "    Hence $12/36$ or $1/3$ is the probability."
      ]
    },
    {
      "cell_type": "markdown",
      "metadata": {
        "id": "lwi4LPGnkd7s"
      },
      "source": [
        "### Sample Solution 10.3"
      ]
    },
    {
      "cell_type": "markdown",
      "metadata": {
        "id": "1J4quaZmkd7s"
      },
      "source": [
        "1. There are 13! possible arrangements of the first 13 letters of the permutation, and in only one of these are they in alphabetical order. Therefore the answer is 1/13!.\n",
        "\n",
        "2. Once these two conditions are met, there are 24! ways to choose the remaining letters for positions 2 through 25. Therefore the answer is 24!/26! = 1/650.\n",
        "\n",
        "3. Just looking at the relative placements of I, J, and K, only one-third of the time will I come first. The answer is therefore 1/3.\n",
        "\n",
        "4. In effect we are forming a permutation of 25 items --- the letters A through N\n",
        "and Q through Z and the double letter combination OP or PO. There are 25! ways\n",
        "to permute these items, and for each of these permutations there are two choices\n",
        "as to whether O or P comes first. Thus there are twice 25! ways to form such\n",
        "a permutation, and therefore the answer is 2(25!)/26! = 1/13.\n",
        "\n",
        "5. Letting X $^{n}$ mean $n$ repetitions of X, here are the six ways this can happen: UX $^{24}$ V, VX $^{24}$ U, XUX $^{23}$ V, XVX $^{23}$ U, UX $^{23}$ VX, and VX $^{23}$ UX, where X stands for any letter other than U and V (but of course all the Xs are different in each permutation). In each of these there are 24! ways to permute the letters other than U and V, so there are 24! permutations of each type. This gives a total of 6(24!) permutations meeting the conditions, so the answer is 6(24!)/26! = 3/325.\n"
      ]
    },
    {
      "cell_type": "markdown",
      "metadata": {
        "id": "ICqwQh-Pkd7s"
      },
      "source": [
        "### Sample Solution 10.5"
      ]
    },
    {
      "cell_type": "markdown",
      "metadata": {
        "id": "ZMK8qX1dkd7s"
      },
      "source": [
        "Box 1: 1p, 3r, 4b\n",
        "\n",
        "Box 2: 4p, 2r, 2b\n",
        "\n",
        "Box 3: 2p, 1r, 4b\n",
        "\n",
        "Let $E$ = the event of drawing a red skittle\n",
        "\n",
        "Let $F$ = the event of drawing from Box 1\n",
        "\n",
        "$P(E) = 6/23$\n",
        "\n",
        "$P(F) = 1/3$\n",
        "\n",
        "$P(\\overline{F}) = 2/3$\n",
        "\n",
        "$P(E|F) = 3/8$\n",
        "\n",
        "$P(E|\\overline{F}) = 3/15$\n",
        "\n",
        "We need to find $P(F|E)$, the probability of getting Box 1 given that we drew a red skittle.\n",
        "\n",
        "Apply Bayes' Theorem:\n",
        "\n",
        "$P(F|E) = \\frac{P(E|F)P(F)}{P(E|F)P(F) + P(E|\\overline{F})P(\\overline{F})}$\n",
        "\n",
        "$P(F|E) = \\frac{\\frac{3}{8} \\cdot \\frac{1}{3}}{\\frac{3}{8} \\cdot \\frac{1}{3} + \\frac{3}{15} \\cdot \\frac{2}{3}} \\approx 0.484$\n",
        "\n",
        "The probability we drew from Box 1, given we drew a red skittle, is 48.4%\n"
      ]
    },
    {
      "cell_type": "markdown",
      "metadata": {
        "id": "V5lJnRr5kd7s"
      },
      "source": [
        "### Sample Solution 10.7"
      ]
    },
    {
      "cell_type": "markdown",
      "metadata": {
        "id": "McYn_Lxekd7s"
      },
      "source": [
        "Total number of outcomes: $6^5 = 7776$\n",
        "\n",
        "$$\n",
        "\\begin{array}{lllll}\n",
        "\\hline\n",
        "{\\bf {Roll}} & {\\bf {Examples}} & {\\bf { Model}} & {\\bf {Patterns}} & {\\bf { Event\\ Size}} \\\\\n",
        "\\hline\n",
        "\\text{Five of} & 11111, & \\text{Enumerate} & {\\tt aaaaa} & \\text{Total } \\\\\n",
        "\\text{a kind}  & 66666  &           &             & = 6 \\\\\n",
        "\\hline\n",
        "\\text{Four of} & 11112, & \\exists\\ {5 \\choose 1} \\text{ places} & {\\tt aaaab} & 5 \\text{ patterns} \\\\\n",
        "\\text{a kind}  & 56666  & \\text{where the one}  & {\\tt aaaba} & \\times 6 \\text{ choices} \\\\\n",
        "        &        & \\text{different die}  & {\\tt aabaa} & \\text{for } {\\tt a} \\\\\n",
        "        &        & \\text{can go --- use} & {\\tt abaaa} & \\times 5 \\text{ choices} \\\\\n",
        "        &        & \\text{Product Rule}   & {\\tt baaaa} & \\text{for } {\\tt b} = 150 \\\\\n",
        "\\hline\n",
        "\\text{Straight} &12345,  & \\text{Sum Rule with}  & {\\tt abcde} & 120 + 120 \\\\\n",
        "        &23456   & 5! \\text{ permutations}&{\\tt bcdef}& = 240 \\\\\n",
        "        &        & \\text{of each pattern}&       & \\\\\n",
        "\\hline\n",
        " \\text{Full}   & 11444, & \\text{Choose where}   & {\\tt aaabb} &10 \\text{ patterns } \\\\\n",
        " \\text{house}  & 33366  & \\text{the pair}       & {\\tt aabab} &\\times 6 \\text{ choices } \\\\\n",
        "        && \\text{goes} = {5 \\choose 2} & {\\tt abaab} &\\text{ for } {\\tt a} \\\\\n",
        "        &        & = 5!/2!3!    & {\\tt baaab} &\\times 5 \\text{ choices} \\\\\n",
        "        &        & = 10         & {\\tt baaba} &\\text{for } {\\tt b} \\\\\n",
        "        &        & \\text{patterns}       & {\\tt babaa} &= 300 \\\\\n",
        "        &        & \\text{and use}        & {\\tt bbaaa} & \\\\\n",
        "        &        & \\text{Product Rule}   & {\\tt aabba} & \\\\\n",
        "        &        &                & {\\tt ababa} & \\\\\n",
        "        &        &                & {\\tt abbaa} & \\\\\n",
        "\\hline\n",
        " \\text{Three}  & 11123, & \\text{Choose where}   & {\\tt aaabc} & 10 \\text{ patterns} \\\\\n",
        " \\text{of a}   & 45644  & \\text{the triple }    & {\\tt aabac} &\\times 6 \\text{ choices} \\\\\n",
        " \\text{kind}   && \\text{goes} = {5 \\choose 3} & {\\tt abaac} & \\text{for } {\\tt a} \\\\\n",
        "        &        & = 5!/3!2!    & {\\tt baaac} &\\times 5 \\text{ choices} \\\\\n",
        "        &        & = 10         & {\\tt baaca} & \\text{for } {\\tt b} \\\\\n",
        "        &        & \\text{patterns}       & {\\tt bacaa} &\\times 4 \\text{ choices} \\\\\n",
        "        &        & \\text{and use  }      & {\\tt bcaaa} & \\text{for } {\\tt c} \\\\\n",
        "        &        & \\text{Product Rule }  & {\\tt aabca} &= 1200 \\\\\n",
        "        &        &                & {\\tt abaca} & \\\\\n",
        "        &        &                & {\\tt abcaa} & \\\\\n",
        "\\hline\n",
        " \\text{Two}    & 11223, & \\text{Choose where}   & {\\tt aabbc} & 15 \\text{ patterns } \\\\\n",
        " \\text{pair}   & 45566  & \\text{the two pairs}  & {\\tt ababc} &\\times 6 \\text{ choices } \\\\\n",
        "       && \\text{go} = 5!/2!2!/2        & {\\tt abbac} & \\text{for } {\\tt a} \\\\\n",
        "        &        & = 15         & {\\tt aabcb} &\\times 5 \\text{ choices } \\\\\n",
        "        &        & \\text{patterns}       & {\\tt abacb} & \\text{for } {\\tt b} \\\\\n",
        "        &        & \\text{and use}        & {\\tt abbca} &\\times 4 \\text{ choices } \\\\\n",
        "        &        & \\text{Product Rule }  & {\\tt aacbb} & \\text{for } {\\tt c} \\\\\n",
        "        &        &                & {\\tt abcab} &= 1800 \\\\\n",
        "        &        &                & {\\tt abcba} & \\\\\n",
        "        &        &                & {\\tt acabb} & \\\\\n",
        "        &        &                & {\\tt acbab} & \\\\\n",
        "        &        &                & {\\tt acbba} & \\\\\n",
        "        &        &                & {\\tt caabb} & \\\\\n",
        "        &        &                & {\\tt cabab} & \\\\\n",
        "        &        &                & {\\tt cabba} & \\\\\n",
        "\\hline\n",
        "\\text{One }  & 11234, & \\text{Two the same} & {\\tt aabcd} & 10 \\text{ patterns } \\\\\n",
        "\\text{pair } & 13566  & \\text{and the}      & {\\tt abacd} & \\times 6 \\text{ choices } \\\\\n",
        "     &        & \\text{other three}  & {\\tt abcad} & \\text{ for } {\\tt a} \\\\\n",
        "     &        & \\text{different}    & {\\tt abcda} & \\times 5 \\text{ choices } \\\\\n",
        "     &     &= {5 \\choose 2}& {\\tt baacd} & \\text{ for } {\\tt b} \\\\\n",
        "     &        & = 5!/2!3!  & {\\tt bacad} & \\times 4 \\text{ choices } \\\\\n",
        "     &        & = 10       & {\\tt bacda} & \\text{ for } {\\tt c} \\\\\n",
        "     &        & \\text{patterns and} & {\\tt bcaad} & \\times 3 \\text{ choices } \\\\\n",
        "     &        & \\text{use Product}  & {\\tt bcada} & \\text{ for } {\\tt d} \\\\\n",
        "     &        & \\text{Rule}         & {\\tt bcdaa} & = 3600\\\\\n",
        "\\hline\n",
        "\\text{Junk } & 12346, & \\text{Enumerate }   & {\\tt abcdf} & \\text{ Total } \\\\\n",
        "     & 12356, & \\text{--- no }       & {\\tt abcef} & = 4 \\\\\n",
        "     & 12456, & \\text{duplicates,}  & {\\tt abdef} & \\times 120\\\\\n",
        "     & \\text{and }   & \\text{not a}        & {\\tt acdef} & = 480\\\\\n",
        "     & 13456  & \\text{straight}     & \\text{where each } & \\\\\n",
        "     &        &              & \\text{pattern has }5! & \\\\\n",
        "     &        &              & \\text{permutations}& \\\\\n",
        "\\hline\n",
        "\\end{array}\n",
        "$$\n",
        "\n",
        "\n",
        "|Roll|Fraction|Float|\n",
        "|---|----|----|\n",
        "|Yahtzee|6/7776|0.00077|\n",
        "|Four of a kind | 150/7776 | 0.01929|\n",
        "|Straight | 240/7776 | 0.03086|\n",
        "|Full house | 300/7776 | 0.03858|\n",
        "|Three of a kind | 1200/7776 | 0.15432|\n",
        "|Two pair | 1800/7776 | 0.23148|\n",
        "|One pair | 3600/7776 | 0.46296|\n",
        "|Junk | 480/7776 | 0.06172|\n",
        "|Total | 7776/7776 | 0.99998|\n"
      ]
    },
    {
      "cell_type": "markdown",
      "metadata": {
        "id": "UL5tyxVVkd7t"
      },
      "source": [
        "### Sample Solution 10.8"
      ]
    },
    {
      "cell_type": "code",
      "execution_count": null,
      "metadata": {
        "id": "mIPe_ffCkd7u"
      },
      "outputs": [],
      "source": [
        "#@title Answer {display-mode: \"form\"}\n",
        "die = [1,2,3,4,5,6]\n",
        "from itertools import product\n",
        "sample_space = {*product(die, die, die, die, die)}\n",
        "print(len(sample_space))\n",
        "# print(sample_space)  # Try this, then comment it out.\n",
        "\n",
        "# yahtzee: all five dice are the same\n",
        "yahtzee = {*filter(lambda x: x[0] == x[1] == x[2] == x[3] == x[4], sample_space)}\n",
        "print(f\"yahtzee:            {len(yahtzee)} / {len(sample_space)}: {len(yahtzee) / len(sample_space)}\")\n",
        "\n",
        "# four of a kind: four dice are the same\n",
        "four_of_a_kind = {*filter(lambda roll: \\\n",
        "                          roll.count(roll[0])==4 or \\\n",
        "                          roll.count(roll[1])==4, \\\n",
        "                          sample_space)}\n",
        "\n",
        "print(f\"four of a kind:   {len(four_of_a_kind)} / {len(sample_space)}: \\\n",
        "{len(four_of_a_kind) / len(sample_space)}\")\n",
        "\n",
        "\n",
        "# straight\n",
        "# 1,2,3,4,5 or 2,3,4,5,6\n",
        "straight = {*filter(lambda roll: \\\n",
        "                    (sum(roll) == 15 or sum(roll) == 20) \\\n",
        "                    and roll.count(roll[0]) == 1 \\\n",
        "                    and roll.count(roll[1]) == 1 \\\n",
        "                    and roll.count(roll[2]) == 1 \\\n",
        "                    and roll.count(roll[3]) == 1,\\\n",
        "                    sample_space)}\n",
        "                   \n",
        "print(f\"straight:         {len(straight)} / {len(sample_space)}: \\\n",
        "{len(straight) / len(sample_space)}\")\n",
        "\n",
        "\n",
        "# full house\n",
        "# three of one kind and two of the other kind\n",
        "full_house = {*filter(lambda roll: \\\n",
        "                    (roll.count(roll[0]) == 3 \\\n",
        "                     or roll.count(roll[1]) == 3 \\\n",
        "                     or roll.count(roll[2]) == 3 ) \\\n",
        "                    and \\\n",
        "                    (roll.count(roll[4]) == 2 \\\n",
        "                     or roll.count(roll[3]) == 2 \\\n",
        "                     or roll.count(roll[2]) == 2 \\\n",
        "                     or roll.count(roll[1]) == 2 \\\n",
        "                    ), \\\n",
        "                    sample_space)}\n",
        "\n",
        "print(f\"full_house:       {len(full_house)} / {len(sample_space)}: \\\n",
        "{len(full_house) / len(sample_space)}\")\n",
        "\n",
        "\n",
        "# three of a kind\n",
        "# find everything with three of one kind and remove all the full houses\n",
        "three_of_a_kind = {*filter(lambda roll: \\\n",
        "                    (roll.count(roll[0]) == 3 \\\n",
        "                     or roll.count(roll[1]) == 3 \\\n",
        "                     or roll.count(roll[2]) == 3 ), \\\n",
        "                    sample_space)}.difference(full_house)\n",
        "\n",
        "print(f\"three_of_a_kind: {len(three_of_a_kind)} / {len(sample_space)}: \\\n",
        "{len(three_of_a_kind) / len(sample_space)}\")\n",
        "\n",
        "\n",
        "# two_pairs\n",
        "# find all sets of three elements, then take off the three of a kinds\n",
        "two_pairs = {*filter(lambda roll:\\\n",
        "                     len(set(roll)) == 3\n",
        "                     , \\\n",
        "                    sample_space)}.difference(three_of_a_kind)\n",
        "\n",
        "print(f\"two_pairs:       {len(two_pairs)} / {len(sample_space)}: \\\n",
        "{len(two_pairs) / len(sample_space)}\")\n",
        "\n",
        "\n",
        "\n",
        "\n",
        "# one pair\n",
        "# \n",
        "# find everything with two of one kind and remove all the full houses and\n",
        "# two pairs\n",
        "one_pair = {*filter(lambda roll: \\\n",
        "                    (roll.count(roll[0]) == 2 \\\n",
        "                     or roll.count(roll[1]) == 2 \\\n",
        "                     or roll.count(roll[2]) == 2 \\\n",
        "                     or roll.count(roll[3]) == 2), \\\n",
        "                    sample_space)}.difference(full_house).difference(two_pairs)\n",
        "\n",
        "print(f\"one_pair:        {len(one_pair)} / {len(sample_space)}: \\\n",
        "{len(one_pair) / len(sample_space)}\")\n",
        "\n",
        "\n",
        "junk = sample_space.difference(yahtzee).difference(four_of_a_kind).difference(straight).difference(full_house).difference(three_of_a_kind).difference(two_pairs).difference(one_pair)\n",
        "print(f\"junk:             {len(junk)} / {len(sample_space)}: \\\n",
        "{len(junk) / len(sample_space)}\")\n",
        "\n",
        "total = len(yahtzee) + len(four_of_a_kind) + len(straight) + len(full_house) + len(three_of_a_kind) + len(two_pairs) + len(one_pair) + len(junk)\n",
        "\n",
        "print(f'total:           {total}')\n",
        "\n"
      ]
    }
  ],
  "metadata": {
    "colab": {
      "collapsed_sections": [],
      "name": "cse280-homework-10.ipynb",
      "provenance": [],
      "toc_visible": true
    },
    "interpreter": {
      "hash": "1977c1262a5a71e57f8e1e2a9337f4268800bf2d1a595fc1ecb322ccb8b2351d"
    },
    "kernelspec": {
      "display_name": "Python 3.9.0 ('.env': venv)",
      "language": "python",
      "name": "python3"
    },
    "language_info": {
      "codemirror_mode": {
        "name": "ipython",
        "version": 3
      },
      "file_extension": ".py",
      "mimetype": "text/x-python",
      "name": "python",
      "nbconvert_exporter": "python",
      "pygments_lexer": "ipython3",
      "version": "3.9.0"
    }
  },
  "nbformat": 4,
  "nbformat_minor": 0
}