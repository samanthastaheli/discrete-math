{
  "cells": [
    {
      "cell_type": "markdown",
      "metadata": {
        "id": "_Mr3AvSgSswx"
      },
      "source": [
        "# <font color=blue>Homework 8 - Counting</font>\n",
        "## <font color=blue>Prepare</font>"
      ]
    },
    {
      "cell_type": "markdown",
      "metadata": {
        "id": "zRSWtA5skP6O"
      },
      "source": [
        "### Exercise 8.1\n"
      ]
    },
    {
      "cell_type": "markdown",
      "metadata": {
        "id": "pDRAcd2pkQ0y"
      },
      "source": [
        "1. Tessie and her friends have between them 15 board games, 12 card games, and one word game. If their game nights feature the word game plus one other game --- either a board game or a card game --- how many different game nights can they have? What basic counting rule is applied to this problem?\n",
        "\n",
        "2. Now Tessie and her friends have acquired two more word games, and have decided to vary the snacks they munch on while playing games. If a game-night configuration consists of a word game and another game and a snack, and they have 7 different types of snacks, how many different game-night configurations are possible now? What basic counting rule applies to this problem?"
      ]
    },
    {
      "cell_type": "markdown",
      "metadata": {
        "id": "xCmZtuNChhZx"
      },
      "source": [
        "#### Your Answer:\n",
        "\n",
        "1. Sum rule\n",
        "\n",
        "number of game nights = $15 + 12 = 27$\n",
        "\n",
        "2. Sum and product rule\n",
        "\n",
        "number of game nights = $(15 + 12) \\cdot 3 \\cdot 7 = 567$"
      ]
    },
    {
      "cell_type": "markdown",
      "metadata": {
        "id": "dK2tIQ19lXlQ"
      },
      "source": [
        "### Exercise 8.2"
      ]
    },
    {
      "cell_type": "markdown",
      "metadata": {
        "id": "jLxMQs-ylYYv"
      },
      "source": [
        "1.  How many different functions are there from a set with 3 elements to a set with 5 elements? Remember the definition of a function. How many ways are there to map three elements to five elements? Another way to think about the problem is in terms of people and offices. How many ways can three people be assigned to five offices? (Can more than one person be assigned to the same office?)\n",
        "\n",
        "2. How many different *one-to-one* functions are there from a set with 3 elements to a set with 5 elements? Again, think in terms of assigning people to offices. Think about what it means if the function is one-to-one?\n",
        "\n",
        "3. How many different *onto* functions are there from a set with 3 elements to a set with 5 elements? In terms of people and offices, how many ways can three people be assigned to five offices if every office must be filled and every person can only be assigned to one and exactly one office?\n"
      ]
    },
    {
      "cell_type": "markdown",
      "metadata": {
        "id": "7GsVkjvohhZy"
      },
      "source": [
        "#### Your Answer:\n",
        "\n",
        "1. $5^3 = 125$\n",
        "2. $5 \\cdot 4 \\cdot 3 = 60$\n",
        "3. $0$ because there is no way a function can be onto and map from a lower number to a higher number. "
      ]
    },
    {
      "cell_type": "markdown",
      "metadata": {
        "id": "dcJgdo8_mmjT"
      },
      "source": [
        "### Exercise 8.3\n"
      ]
    },
    {
      "cell_type": "markdown",
      "metadata": {
        "id": "CsYh_VMlhhZz"
      },
      "source": [
        "1. How many different 8-character passwords are possible if all uppercase, lowercase, and digits are allowed? Assume the English alphabet.\n",
        "\n",
        "2. What if the 32 printable ASCII symbols are also allowed?"
      ]
    },
    {
      "cell_type": "markdown",
      "metadata": {
        "id": "zhqcxH7rhhZz"
      },
      "source": [
        "#### Your Answer:\n",
        "\n",
        "1. $(26+26+10)^8 = 218340105584896$\n",
        "\n",
        "2. $(26+26+10+32)^8 = 6095689385000000$"
      ]
    },
    {
      "cell_type": "markdown",
      "metadata": {
        "id": "M8ODnesMhhZz"
      },
      "source": [
        "### Exercise 8.4\n"
      ]
    },
    {
      "cell_type": "markdown",
      "metadata": {
        "id": "CFNfXER1mnyw"
      },
      "source": [
        "Of the $9!$ arrangements of the letters ```ABCDELMNO```, how many contain the string ```ELM```?\n"
      ]
    },
    {
      "cell_type": "markdown",
      "metadata": {
        "id": "rdNesUeghhZz"
      },
      "source": [
        "#### Your Answer:\n",
        "\n",
        "$9 - 3 + 1 = 7$\n",
        "\n",
        "$7! = 5040$"
      ]
    },
    {
      "cell_type": "markdown",
      "metadata": {
        "id": "EKGHHtJMmwf9"
      },
      "source": [
        "### Exercise 8.5\n"
      ]
    },
    {
      "cell_type": "markdown",
      "metadata": {
        "id": "Zc9AJJqumxYN"
      },
      "source": [
        "How many three-letter acronyms (arrangements of 3 alphabetic letters) are there *with repetition allowed*? Assuming uppercase only.\n"
      ]
    },
    {
      "cell_type": "markdown",
      "metadata": {
        "id": "Yf1uS93MhhZ0"
      },
      "source": [
        "#### Your Answer:\n",
        "\n",
        "$3^26$ or P(26,3)"
      ]
    },
    {
      "cell_type": "markdown",
      "metadata": {
        "id": "_hpeDhPNm_BV"
      },
      "source": [
        "### Exercise 8.6\n"
      ]
    },
    {
      "cell_type": "markdown",
      "metadata": {
        "id": "R0adN9_OnAdN"
      },
      "source": [
        "How many different sequences of initials are there for people who either have two initials (first and last) or three initials (first, middle and last)?\n"
      ]
    },
    {
      "cell_type": "markdown",
      "metadata": {
        "id": "ZdGsjVBFhhZ0"
      },
      "source": [
        "#### Your Answer:\n",
        "\n",
        "C(26,2) + C(26,3)"
      ]
    },
    {
      "cell_type": "markdown",
      "metadata": {
        "id": "TuSr54_NnJch"
      },
      "source": [
        "### Exercise 8.7\n"
      ]
    },
    {
      "cell_type": "markdown",
      "metadata": {
        "id": "Qr1V57rPnLon"
      },
      "source": [
        "How many different sequences can be formed using *either* two *or* three letters (A-Z) followed by *either* two *or* three digits (0-9)?\n"
      ]
    },
    {
      "cell_type": "markdown",
      "metadata": {
        "id": "2M6A4qxnnM7w"
      },
      "source": [
        "For example:\n",
        "* ```AB01```\n",
        "* ```ABC02```\n",
        "* ```XYZ123```\n",
        "* $\\ldots$\n"
      ]
    },
    {
      "cell_type": "markdown",
      "metadata": {
        "id": "Q4XcSWslhhZ1"
      },
      "source": [
        "#### Your Answer:\n",
        "\n",
        "C(26,2) + C(26,3) + C(10,2) + C(10,3)"
      ]
    },
    {
      "cell_type": "markdown",
      "metadata": {
        "id": "zRnpNNCdpfH1"
      },
      "source": [
        "### Exercise 8.8\n"
      ]
    },
    {
      "cell_type": "markdown",
      "metadata": {
        "id": "M9rhCPujpgn1"
      },
      "source": [
        "Suppose you flip a *fair* coin 10 times. How many different ways can you get\n",
        "1. no heads?\n",
        "2. exactly one head?\n",
        "3. exactly two heads?\n",
        "4. exactly $r$ heads?\n",
        "5. at least two heads?\n"
      ]
    },
    {
      "cell_type": "markdown",
      "metadata": {
        "id": "QVe_2ruEhhZ1"
      },
      "source": [
        "#### Your Answer:\n",
        "\n",
        "1. $C(10,0) = {10 \\choose 0} = \\dfrac{10!}{0!} = 1$\n",
        "2. $C(10,1) = {10 \\choose 1} = \\dfrac{10!}{1!0!} = 10$\n",
        "3. $C(10,2) = \\dfrac{10!}{2!} = \\dfrac{10*9}{2*1} = \\dfrac{90}{2}= 45$\n",
        "4. $\\dfrac{10!}{r!(10-r)!}$\n",
        "5. $2^{10} - C(10,0) - C(10,1) = 1024 - 1 - 10 = 1013$"
      ]
    },
    {
      "cell_type": "markdown",
      "metadata": {
        "id": "cNHRbZiTpu5f"
      },
      "source": [
        "### Exercise 8.9\n"
      ]
    },
    {
      "cell_type": "markdown",
      "metadata": {
        "id": "JozF_O5apvxZ"
      },
      "source": [
        "How many bit strings of length 10 contain at least two 1s?\n"
      ]
    },
    {
      "cell_type": "markdown",
      "metadata": {
        "id": "bySWkyhxhhZ1"
      },
      "source": [
        "#### Your Answer:\n",
        "\n",
        "n = 10, r = 2\n",
        "\n",
        "$2^{10} - C(10, 0) - C(10, 1) = 1024 - 1 - 10 = 1013$"
      ]
    },
    {
      "cell_type": "markdown",
      "metadata": {
        "id": "mSqTX9lSp4FQ"
      },
      "source": [
        "### Exercise 8.10"
      ]
    },
    {
      "cell_type": "markdown",
      "metadata": {
        "id": "YWGWWbt7p620"
      },
      "source": [
        "There are many kinds of fruit: raspberries, strawberries, blueberries, apples, oranges, bananas, kiwi, papaya, mango, just to name a few. Just choosing five from that list of nine, how many different combinations of fruit salad can you make?\n"
      ]
    },
    {
      "cell_type": "markdown",
      "metadata": {
        "id": "5fkBsubyhhZ2"
      },
      "source": [
        "#### Your Answer:\n",
        "\n",
        "$C(9,5) = {9 \\choose 5} = \\dfrac{9!}{5!4!} = \\dfrac{9*8*7*6}{4*3*2*1} = \\dfrac{3024}{24} = 126$"
      ]
    },
    {
      "cell_type": "markdown",
      "metadata": {
        "id": "J8jS6Xydqz3R"
      },
      "source": [
        "### Exercise 8.11\n"
      ]
    },
    {
      "cell_type": "markdown",
      "metadata": {
        "id": "8qimV7qOq0nP"
      },
      "source": [
        "1. How many different 3-scoop cups of ice cream are there with just 3 flavors to choose from?\n",
        "2. How many different 3-scoop cups of ice cream are there with 31 flavors to choose from?"
      ]
    },
    {
      "cell_type": "markdown",
      "metadata": {
        "id": "xMsyDJYthhZ2"
      },
      "source": [
        "#### Your Answer:\n",
        "\n",
        "1. $C(3+3-1,3-1) = {5 \\choose 2} = \\dfrac{5!}{3!2!} = \\dfrac{120}{12} = 10$\n",
        "2. $C(31+3-1,31-1) = {33 \\choose 30} = \\dfrac{33!}{3!30!} = \\dfrac{33*32*31}{3*2} = 5456$"
      ]
    },
    {
      "cell_type": "markdown",
      "metadata": {
        "id": "W64zqRE50xVY"
      },
      "source": [
        "### Exercise 8.12\n"
      ]
    },
    {
      "cell_type": "markdown",
      "metadata": {
        "id": "imLWWtwE0xpx"
      },
      "source": [
        "How many different ways are there to choose ten cookies from the three types: chocolate chip, oatmeal, and peanut butter?\n"
      ]
    },
    {
      "cell_type": "markdown",
      "metadata": {
        "id": "bc2axebQhhZ2"
      },
      "source": [
        "#### Your Answer:\n",
        "\n",
        "n = 10\n",
        "\n",
        "m = 3\n",
        "\n",
        "$C(10+3-1,3-1) = {12 \\choose 2} = \\dfrac{12!}{2!10!} = \\dfrac{12*11}{2} = 66$"
      ]
    },
    {
      "cell_type": "markdown",
      "metadata": {
        "id": "8DXS6cSE2Axa"
      },
      "source": [
        "### Exercise 8.13\n"
      ]
    },
    {
      "cell_type": "markdown",
      "metadata": {
        "id": "JTM10auP2CFm"
      },
      "source": [
        "What is the number of different strings that can be formed by reordering the characters in the word ```SUCCESS```?\n"
      ]
    },
    {
      "cell_type": "markdown",
      "metadata": {
        "id": "97AUnaKAhhZ3"
      },
      "source": [
        "#### Your Answer:\n",
        "\n",
        "$s = C(7,3)$\n",
        "\n",
        "$c = C(4,2)$\n",
        "\n",
        "$u = C(2,1)$\n",
        "\n",
        "$e = C(1,1)$\n",
        "\n",
        "$\\dfrac{7!}{3!4!} \\cdot \\dfrac{4!}{2!2!} \\cdot \\dfrac{2!}{1!1!} \\cdot \\dfrac{1!}{1!0!} = \\dfrac{7!}{3!2!1!1!} = \\dfrac{5040}{12} = 420$"
      ]
    },
    {
      "cell_type": "markdown",
      "metadata": {
        "id": "4GoMO6r3hhZ3"
      },
      "source": [
        "### Exercise 8.14"
      ]
    },
    {
      "cell_type": "markdown",
      "metadata": {
        "id": "nBpEFaFxhhZ3"
      },
      "source": [
        "The Python `math` module provides a `factorial` function:"
      ]
    },
    {
      "cell_type": "code",
      "execution_count": null,
      "metadata": {
        "id": "t4n_4lsKhhZ3"
      },
      "outputs": [],
      "source": [
        "from math import factorial\n",
        "factorial(6)"
      ]
    },
    {
      "cell_type": "markdown",
      "metadata": {
        "id": "CCT6AQDyhhZ4"
      },
      "source": [
        "1. In Python, implement an r-permutation function called $P(n,r)$. This function should return the number of r-permutations from a set with $n$ elements.\n",
        "\n",
        "2. In Python, implement an r-combination function (*n choose r*) called $C(n,r)$. This function should return the number of r-combinations or r-subsets from a set with $n$ elements.\n",
        "\n",
        "3. Use your $P(n,r)$ function to calculate each of the following:\n",
        "\n",
        "    a. How many different arrangements can be made of 5 people from a group of 8 people to stand in line for a picture? \n",
        "\n",
        "    b. How many different ways can 8 different projects be assigned to 26 people? Only one project per person. Not all people will be assigned to a project.\n",
        "\n",
        "    c. How many different ways can we assign 15 pilots to 100 possible flight schedules?\n",
        "\n",
        "4. Use your $C(n,r)$ function to calculate the following:\n",
        "\n",
        "    a. How many ways can we form a committee of 5 people from a group of 8 people?\n",
        "\n",
        "    b. How many ways can we select 8 people from a group of 26 people to work on a single project, assuming all people are equally qualified?\n",
        "\n",
        "    c. How many ways can we select 15 winners for a vacation drawing from a group of 100 contestants assuming each prize is the same?\n",
        "\n",
        "5. In general, are there more r-permutations or r-combinations for a given set of $n$ elements? Why?"
      ]
    },
    {
      "cell_type": "markdown",
      "metadata": {
        "id": "zMWYhwhKhhZ4"
      },
      "source": [
        "#### Your Answer:"
      ]
    },
    {
      "cell_type": "code",
      "execution_count": null,
      "metadata": {
        "id": "f3vSTywzhhZ4",
        "colab": {
          "base_uri": "https://localhost:8080/"
        },
        "outputId": "b5cdac15-647c-4385-c122-9ab369874635"
      },
      "outputs": [
        {
          "output_type": "stream",
          "name": "stdout",
          "text": [
            "3a. 6720\n",
            "3b. 62990928000\n",
            "3c. 331284225412682501619179520000\n",
            "4a. 56\n",
            "4b. 1562275\n",
            "4c. 253338471349988640\n"
          ]
        }
      ],
      "source": [
        "from math import factorial\n",
        "\n",
        "# Implement an r-permutation function\n",
        "def P(n, r):\n",
        "    # Your code here\n",
        "    return factorial(n) // (factorial(n-r))\n",
        "\n",
        "\n",
        "# Implmement an r-combination function. In other words, implement a function to calculate n choose r.\n",
        "def C(n, r):\n",
        "    # Your code here\n",
        "    return factorial(n) // (factorial(r) * factorial(n-r))\n",
        "\n",
        "print(f\"3a. {P(8,5)}\")\n",
        "print(f\"3b. {P(26,8)}\")\n",
        "print(f\"3c. {P(100,15)}\")\n",
        "print(f\"4a. {C(8,5)}\")\n",
        "print(f\"4b. {C(26,8)}\")\n",
        "print(f\"4c. {C(100,15)}\")\n",
        "\n",
        "# expected output:\n",
        "# 6720\n",
        "# 62990928000\n",
        "# 331284225412682501619179520000\n",
        "# 56\n",
        "# 1562275\n",
        "# 253338471349988640"
      ]
    },
    {
      "cell_type": "markdown",
      "metadata": {
        "id": "rITG2A9thhZ4"
      },
      "source": [
        "*Your answers to 3-5 here*\n",
        "\n",
        "3. \n",
        "  * a) 6720\n",
        "  * b) 62990928000\n",
        "  * c) 3.312842254126825e+29\n",
        "\n",
        "4. \n",
        "  * a) 56\n",
        "  * b) 1562275\n",
        "  * c) 2.5333847134998864e+17\n",
        "\n",
        "5. There are more r-permutations than r-combinations because with permutations order matters.\n",
        "\n",
        "\n",
        "\n",
        "\n"
      ]
    },
    {
      "cell_type": "markdown",
      "metadata": {
        "id": "HCjgnJwTbbhN"
      },
      "source": [
        "----------------------\n",
        "## Sample Solutions\n",
        "\n",
        "**Note**:\n",
        "Sample solutions are provided in order to help you **learn**. The purpose of these exercises is not to simply turn in the answers, but to take the time and effort to learn and understand the material. You are encouraged to work the problems first, then when you are satisfied that you have the correct answer, look at the sample solution and compare it with yours. "
      ]
    },
    {
      "cell_type": "markdown",
      "metadata": {
        "id": "nyF7o7SYhhZ4"
      },
      "source": [
        "### Sample Solution 8.1"
      ]
    },
    {
      "cell_type": "markdown",
      "metadata": {
        "id": "JWXA9LxahhZ4"
      },
      "source": [
        "Part 1:\n",
        "\n",
        "$15 + 12 = 27$\n",
        "\n",
        "The sum rule is the correct counting rule to apply to this problem. Use the sum rule when there is a choice between different distinct possiblities that don't overlap."
      ]
    },
    {
      "cell_type": "code",
      "execution_count": null,
      "metadata": {
        "id": "P4RVkNUEkcHu"
      },
      "outputs": [],
      "source": [
        "#@title Python Sample Solution {display-mode: \"form\"}\n",
        "board_games = 15\n",
        "card_games = 12\n",
        "game_nights = board_games + card_games\n",
        "print(f'There are {game_nights} different game nights')"
      ]
    },
    {
      "cell_type": "markdown",
      "metadata": {
        "id": "5yZvIwbahhZ5"
      },
      "source": [
        "Part 2:\n",
        "\n",
        "$3 \\times 27 \\times 7 = 567$\n",
        "\n",
        "The product rule along with the sum rule. The sum rule to get the number of combinations of board games and card games. Then the product rule to determine the number of combinations of 3 word games and 27 board/word games and 7 snacks."
      ]
    },
    {
      "cell_type": "code",
      "execution_count": null,
      "metadata": {
        "id": "DSR3STo_hhZ5"
      },
      "outputs": [],
      "source": [
        "#@title Python Sample Solution {display-mode: \"form\"}\n",
        "board_games = 15\n",
        "card_games = 12\n",
        "word_games = 3\n",
        "snacks = 7\n",
        "game_nights = (board_games + card_games) * word_games * snacks\n",
        "print(f'There are {game_nights} different game nights')"
      ]
    },
    {
      "cell_type": "markdown",
      "metadata": {
        "id": "ZnJfUC2ohhZ5"
      },
      "source": [
        "### Sample Solution 8.2"
      ]
    },
    {
      "cell_type": "markdown",
      "metadata": {
        "id": "bgK-T2y7hhZ5"
      },
      "source": [
        "1. There are 5 choices for the first of 3 elements, 5 choices for the second, and 5 for the third, for a total of $5^{3} = 125$. \n",
        "\n",
        "    More than one person could be assigned to the same office in this scenario.\n",
        "\n",
        "2.  In this case, the same element from the domain cannot be selected more than once. \n",
        "\n",
        "    So there are 5 choices for the first of 3 elements, 4 choices for the second, and 3 for the third, or a total of $5 \\times 4 \\times 3 = 60$.\n",
        "\n",
        "    In terms of people and offices, this tells us how many ways to assign three people to five offices if only one person can be assigned to each office.\n",
        "\n",
        "3. Zero. It is impossible to have a *surjection* from a smaller set to a larger set."
      ]
    },
    {
      "cell_type": "markdown",
      "metadata": {
        "id": "hyYHBsejhhZ5"
      },
      "source": [
        "### Sample Solution 8.3"
      ]
    },
    {
      "cell_type": "markdown",
      "metadata": {
        "id": "Ojabkk3VhhZ5"
      },
      "source": [
        "1.  $(26 + 26 + 10)^8 = 218340105584896$\n",
        "\n",
        "    Here is Python to calculate it:"
      ]
    },
    {
      "cell_type": "code",
      "execution_count": null,
      "metadata": {
        "id": "dWpoXbIDhhZ5"
      },
      "outputs": [],
      "source": [
        "# How many passwords of length 8 with uppercase, lowercase, and digits?\n",
        "\n",
        "uppercase = 26\n",
        "lowercase = 26\n",
        "digits = 10\n",
        "length = 8\n",
        "\n",
        "(uppercase + lowercase + digits) ** length"
      ]
    },
    {
      "cell_type": "markdown",
      "metadata": {
        "id": "vazkuqUMhhZ5"
      },
      "source": [
        "2. $(26 + 26 + 10 + 32) ^ 8 = 6095689385410816$\n",
        "\n",
        "   In Python:"
      ]
    },
    {
      "cell_type": "code",
      "execution_count": null,
      "metadata": {
        "id": "PKY2mD6zhhZ5"
      },
      "outputs": [],
      "source": [
        "symbols = 32\n",
        "(uppercase + lowercase + digits + symbols) ** length"
      ]
    },
    {
      "cell_type": "markdown",
      "metadata": {
        "id": "UIYOg3SjhhZ6"
      },
      "source": [
        "### Sample Solution 8.4"
      ]
    },
    {
      "cell_type": "markdown",
      "metadata": {
        "id": "zKHHN-PIhhZ6"
      },
      "source": [
        "Treating ```ELM``` as one indivisible &ldquo;oversized&rdquo; letter, there are only 7 letters to permute, so $7! = 5040$ is the answer."
      ]
    },
    {
      "cell_type": "markdown",
      "metadata": {
        "id": "7RV5wIuWhhZ6"
      },
      "source": [
        "### Sample Solution 8.5"
      ]
    },
    {
      "cell_type": "markdown",
      "metadata": {
        "id": "TS146JAUhhZ6"
      },
      "source": [
        "$26 \\times 26 \\times 26 = 17576.$\n",
        "\n",
        "In general, $n^{r}$ gives the number of $r$-permutations of $n$ things when *repetition is allowed*."
      ]
    },
    {
      "cell_type": "markdown",
      "metadata": {
        "id": "B2nvXn27hhZ6"
      },
      "source": [
        "### Sample Solution 8.6"
      ]
    },
    {
      "cell_type": "markdown",
      "metadata": {
        "id": "Ghksc6hShhZ6"
      },
      "source": [
        "Using either the Sum Rule and Product Rule together, or just the Product Rule:\n",
        "\n",
        "$26^{2} + 26^{3} = 18252 = 26 \\cdot 27 \\cdot 26$."
      ]
    },
    {
      "cell_type": "markdown",
      "metadata": {
        "id": "1KkSx9zyhhZ6"
      },
      "source": [
        "### Sample Solution 8.7"
      ]
    },
    {
      "cell_type": "markdown",
      "metadata": {
        "id": "eHcQ7cMzhhZ6"
      },
      "source": [
        "There are four different possibilities:\n",
        "\n",
        "1. Letter Letter Digit Digit\n",
        "2. Letter Letter Letter Digit Digit\n",
        "3. Letter Letter Digit Digit Digit\n",
        "4. Letter Letter Letter Digit Digit Digit\n",
        "\n",
        "Each of the four possiblities is calculated using the Product Rule, then we use the Sum Rule to combine them into a total.\n",
        "\n",
        "$(26^{2} \\cdot 10^{2}) + (26^{3} \\cdot 10^{2}) + (26^{2} \\cdot 10^{3}) + (26^{3} \\cdot 10^{3}) = 20077200$\n",
        "\n",
        "In Python:"
      ]
    },
    {
      "cell_type": "code",
      "execution_count": null,
      "metadata": {
        "id": "XGmcfjnfhhZ6"
      },
      "outputs": [],
      "source": [
        "letters = 26\n",
        "digits = 10\n",
        "\n",
        "possibility1 = letters * letters * digits * digits\n",
        "possibility2 = letters * letters * letters * digits * digits\n",
        "possibility3 = letters * letters * digits * digits * digits\n",
        "possibility4 = letters * letters * letters * digits * digits * digits\n",
        "\n",
        "result = possibility1 + possibility2 + possibility3 + possibility4\n",
        "print(result)"
      ]
    },
    {
      "cell_type": "markdown",
      "metadata": {
        "id": "ij7roHF1hhZ6"
      },
      "source": [
        "### Sample Solution 8.8"
      ]
    },
    {
      "cell_type": "markdown",
      "metadata": {
        "id": "0HtAklEEhhZ6"
      },
      "source": [
        "This is an application of counting subsets without repetition.\n",
        "1. $C(10, 0) = 1$.\n",
        "2. $C(10, 1) = 10$.\n",
        "3. $C(10, 2) = 45$.\n",
        "4. $C(10, r) = \\frac{10!}{r!(10 - r)!}$.\n",
        "5. $C(10, 2) + C(10, 3) + \\cdots + C(10, 10) = 45 + 120 + 210 + 252 + 210 + 120 + 45 + 10 + 1 = 1013$.\n",
        "\n",
        "An easier way to compute the last one is to use the Counting by Complement technique: $2^{10} - C(10, 0) - C(10, 1) = 1024 - 1 - 10 = 1013.$"
      ]
    },
    {
      "cell_type": "markdown",
      "metadata": {
        "id": "7XfpPvNxhhZ7"
      },
      "source": [
        "### Sample Solution 8.9"
      ]
    },
    {
      "cell_type": "markdown",
      "metadata": {
        "id": "3ywgTINGhhZ7"
      },
      "source": [
        "This is exactly the same as the answer to how many ways you can get at least two heads when flipping a coin 10 times:\n",
        "\n",
        "$2^{10} - C(10, 0) - C(10, 1)$ = $1024 - 1 - 10 = 1013$."
      ]
    },
    {
      "cell_type": "markdown",
      "metadata": {
        "id": "ubgfn8n8hhZ7"
      },
      "source": [
        "### Sample Solution 8.10"
      ]
    },
    {
      "cell_type": "markdown",
      "metadata": {
        "id": "ZV5Z6TwFhhZ7"
      },
      "source": [
        "${9 \\choose 5} = \\frac{9!}{5!4!} = \\frac{9 \\cdot 8 \\cdot 7 \\cdot 6 }{ 4 \\cdot 3 \\cdot 2 \\cdot 1} = 9 \\cdot 7 \\cdot 2 = 126.$"
      ]
    },
    {
      "cell_type": "markdown",
      "metadata": {
        "id": "u3SwDJnghhZ7"
      },
      "source": [
        "### Sample Solution 8.11"
      ]
    },
    {
      "cell_type": "markdown",
      "metadata": {
        "id": "92JS8_0DhhZ7"
      },
      "source": [
        "1.  There are $n=3$ scoops to select from a variety of $m=3$ flavors. \n",
        "\n",
        "    $ {n + m - 1 \\choose m - 1}$\n",
        "\n",
        "    $ {3 + 3 - 1 \\choose 3 - 1} = {5 \\choose 2} = \\frac{5!}{3!2!} = 10$\n",
        "\n",
        "    Another way is to use multichoose,\n",
        "\n",
        "    $\\left(\\!\\!{3 \\choose 3}\\!\\!\\right) = C(3 - 1 + 3, 3) = {5 \\choose 3} = \\frac{5!}{2!3!} = 10.$\n",
        "\n",
        "2. There are $n=3$ scoops to select from a variety of $m=31$ flavors. \n",
        "\n",
        "    $ {3 + 31 - 1 \\choose 31 - 1} = {33 \\choose 30} = \\frac{33!}{3!30!} = \\frac{33 \\cdot 32 \\cdot 31}{3 \\cdot 2} = 5456$"
      ]
    },
    {
      "cell_type": "markdown",
      "metadata": {
        "id": "gJ23J7j3hhZ7"
      },
      "source": [
        "### Sample Solution 8.12"
      ]
    },
    {
      "cell_type": "markdown",
      "metadata": {
        "id": "D51MnT4DhhZ7"
      },
      "source": [
        "$n=10$ and $m=3$\n",
        "\n",
        "${10+3-1 \\choose 3-1} = \\frac{12!}{2!10!} = \\frac{12 \\cdot 11}{2} = 66$"
      ]
    },
    {
      "cell_type": "markdown",
      "metadata": {
        "id": "DlfA0N0ThhZ7"
      },
      "source": [
        "### Sample Solution 8.13"
      ]
    },
    {
      "cell_type": "markdown",
      "metadata": {
        "id": "O4WpyMCihhZ7"
      },
      "source": [
        "Note that this word contains 3 Ss, 2 Cs, 1 U, and 1 E. To determine the number of \\\n",
        "different strings that can be made by reordering the letters, first observe\\\n",
        "that the three Ss can be placed among the seven positions in C(7,3) different ways,\\\n",
        "leaving four positions free. The two Cs can be placed in C(4,2) ways, leaving two\\\n",
        "free postions. The U can be placed in C(2,1) way, leaving one position free. The E can\\\n",
        "be placed in C(1,1) way. From the product rule:\n",
        "\n",
        "\n",
        "$C(7,3)C(4,2)C(2,1)C(1,1) = \\frac{7!}{3!4!} \\times \\frac{4!}{2!2!} \\times \\frac{2!}{1!1!} \\times \\frac{1!}{1!0!} = \\frac{7!}{3!2!1!1!} = 7 \\times 6 \\times 5 \\times 2 = 420.$"
      ]
    },
    {
      "cell_type": "markdown",
      "metadata": {
        "id": "s7XAFT7ThhZ7"
      },
      "source": [
        "### Sample Solution 8.14\n",
        "\n",
        "3.  a. P(8,5)\n",
        "   \n",
        "    b. P(26,8)\n",
        "   \n",
        "    c. P(100,15)\n",
        "\n",
        "4.  a. C(8,5)\n",
        "\n",
        "    b. C(26,8)\n",
        "\n",
        "    c. C(100,15)\n",
        "\n",
        "5. There are more permutations because order matters with permutations. With permutations, (a,b,c) is different than (b,c,a) is different than (c,a,b). With r-combinations, order does not matters, so {a,b,c} is the same as {b,c,a} is the same as {c,a,b}, and so on."
      ]
    },
    {
      "cell_type": "code",
      "execution_count": null,
      "metadata": {
        "id": "oc1r51kPhhZ8",
        "colab": {
          "base_uri": "https://localhost:8080/"
        },
        "outputId": "fec573b9-50a5-4774-aeb5-4651774229dc"
      },
      "outputs": [
        {
          "output_type": "stream",
          "name": "stdout",
          "text": [
            "6720\n",
            "62990928000\n",
            "331284225412682501619179520000\n",
            "56\n",
            "1562275\n",
            "253338471349988640\n"
          ]
        }
      ],
      "source": [
        "from math import factorial\n",
        "\n",
        "# Implement an r-permutation function\n",
        "def P(n, r):\n",
        "    return factorial(n) // factorial(n-r)\n",
        "\n",
        "\n",
        "# Implmement an r-combination function. In other words, implement a function to calculate n choose r.\n",
        "def C(n, r):\n",
        "    return factorial(n) // (factorial(n-r)*factorial(r))\n",
        "\n",
        "\n",
        "print(P(8,5))\n",
        "print(P(26,8))\n",
        "print(P(100,15))\n",
        "print(C(8,5))\n",
        "print(C(26,8))\n",
        "print(C(100,15))"
      ]
    }
  ],
  "metadata": {
    "colab": {
      "collapsed_sections": [],
      "name": "cse280-homework-08.ipynb",
      "provenance": []
    },
    "interpreter": {
      "hash": "1977c1262a5a71e57f8e1e2a9337f4268800bf2d1a595fc1ecb322ccb8b2351d"
    },
    "kernelspec": {
      "display_name": "Python 3.9.0 ('.env': venv)",
      "language": "python",
      "name": "python3"
    },
    "language_info": {
      "codemirror_mode": {
        "name": "ipython",
        "version": 3
      },
      "file_extension": ".py",
      "mimetype": "text/x-python",
      "name": "python",
      "nbconvert_exporter": "python",
      "pygments_lexer": "ipython3",
      "version": "3.9.0"
    }
  },
  "nbformat": 4,
  "nbformat_minor": 0
}