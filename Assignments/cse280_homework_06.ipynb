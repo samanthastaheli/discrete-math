{
  "cells": [
    {
      "cell_type": "markdown",
      "metadata": {
        "id": "_Mr3AvSgSswx"
      },
      "source": [
        "# <font color=blue>Homework 6 - Division, Modular Arithmetic, Prime Numbers</font>\n",
        "## <font color=blue>Prepare</font>"
      ]
    },
    {
      "cell_type": "markdown",
      "metadata": {
        "id": "bEsUKV6DbbhB"
      },
      "source": [
        "**Note**:\n",
        "Sample solutions are provided in order to help you **learn**. The purpose of these exercises is not to simply turn in the answers, but to take the time and effort to learn and understand the material. You are encouraged to work the problems first, then when you are satisfied that you have the correct answer, look at the sample solution and compare it with yours. "
      ]
    },
    {
      "cell_type": "markdown",
      "metadata": {
        "id": "K4Bea2Xg9wfV"
      },
      "source": [
        "As you complete the problems below, you may use Python whenever you can think of way it could help you answer the question."
      ]
    },
    {
      "cell_type": "markdown",
      "metadata": {
        "id": "-m0Dl54u9wfW"
      },
      "source": [
        "### Exercise 6.1\n",
        "\n"
      ]
    },
    {
      "cell_type": "markdown",
      "metadata": {
        "id": "GhKZQWSh9wfX"
      },
      "source": [
        "How is integer division performed in Python? Python has built-in operators to perform integer or floor division and modular division. The `//` operator performs floor division and the `%` operator performs modular division.\n",
        "\n",
        "Write a Python lambda function that takes two numbers $a$ and $b$, then use Python integer or floor division and modulo division to return a quotient and remainder as a tuple (q,r).\n",
        "\n",
        "For example, if $a=9$ and $b=4$, the result should be (2,1). \n"
      ]
    },
    {
      "cell_type": "markdown",
      "metadata": {
        "id": "iRX6sYjAbbhN"
      },
      "source": [
        "#### Your Answer:"
      ]
    },
    {
      "cell_type": "code",
      "execution_count": 1,
      "metadata": {
        "id": "si3J2JuV9wfY"
      },
      "outputs": [
        {
          "name": "stdout",
          "output_type": "stream",
          "text": [
            "2r1\n"
          ]
        }
      ],
      "source": [
        "# Define a function to perform integer division, \n",
        "# returning an integer and a remainder.\n",
        "\n",
        "integer_division = lambda a, b: str(a // b) + str(a % b)\n",
        "\n",
        "result = integer_division(9,4)\n",
        "print(f'{result[0]}r{result[1]}') # should output 2r1"
      ]
    },
    {
      "cell_type": "markdown",
      "metadata": {
        "id": "Dv-drD2H9wfZ"
      },
      "source": [
        "### Exercise 6.2"
      ]
    },
    {
      "cell_type": "markdown",
      "metadata": {
        "id": "NgaHili99wfa"
      },
      "source": [
        "Does $d$ evenly divide $n$? Determine whether each of the following is True or False. If False, give the quotient and remainder. (You are encouraged to write some Python code to help)\n",
        "\n",
        "1. $3 | 12$\n",
        "2. $3 | 13$\n",
        "3. $14 | 58$\n",
        "4. $73 | 1752$\n",
        "5. $73 | 1753$"
      ]
    },
    {
      "cell_type": "markdown",
      "metadata": {
        "id": "pIM683hL9wfa"
      },
      "source": [
        "#### Your Answer:\n",
        "\n",
        "1. True\n",
        "2. False\n",
        "3. False\n",
        "4. True\n",
        "5. False"
      ]
    },
    {
      "cell_type": "markdown",
      "metadata": {
        "id": "f48xoF4r9wfb"
      },
      "source": [
        "### Exercise 6.3"
      ]
    },
    {
      "cell_type": "markdown",
      "metadata": {
        "id": "UTSSEo9D9wfb"
      },
      "source": [
        "List all the positive divisors of each of the following. You may choose to compute them by hand or you may use Python.\n",
        "\n",
        "1. 36\n",
        "2. 24\n",
        "3. 56\n",
        "4. 100\n",
        "5. 116"
      ]
    },
    {
      "cell_type": "markdown",
      "metadata": {
        "id": "9G77S5Ao9wfb"
      },
      "source": [
        "#### Your Answer:"
      ]
    },
    {
      "cell_type": "code",
      "execution_count": 17,
      "metadata": {},
      "outputs": [
        {
          "name": "stdout",
          "output_type": "stream",
          "text": [
            "1. Even divisors for 36: [2, 4, 6, 12, 18, 36]\n",
            "2. Even divisors for 34: [2, 34]\n",
            "3. Even divisors for 56: [2, 4, 8, 14, 28, 56]\n",
            "4. Even divisors for 100: [2, 4, 10, 20, 50, 100]\n",
            "5. Even divisors for 116: [2, 4, 58, 116]\n"
          ]
        }
      ],
      "source": [
        "def div_even(integer):\n",
        "    divisors = []\n",
        "    for d in range(1, integer+1):\n",
        "        if integer % d == 0 and d % 2 == 0:\n",
        "            divisors.append(d)\n",
        "        else:\n",
        "            pass\n",
        "    return divisors\n",
        "\n",
        "numbers = [36, 34, 56, 100, 116]\n",
        "\n",
        "for i in range(len(numbers)):\n",
        "    print(f\"{i + 1}. Even divisors for {numbers[i]}: {(div_even(numbers[i]))}\")"
      ]
    },
    {
      "cell_type": "markdown",
      "metadata": {
        "id": "sL45m1EC9wfc"
      },
      "source": [
        "### Exercise 6.4"
      ]
    },
    {
      "cell_type": "markdown",
      "metadata": {
        "id": "uck9kds19wfc"
      },
      "source": [
        "For each of the below, find the value of $n$.\n",
        "\n",
        "1. n div 11 = 4, n mod  11 = 3\n",
        "2. n div 5 = 8, n mod 5 = 1\n",
        "3. n div 7 = 9, n mod 7 = 0\n",
        "4. n div 15 = 4, n mod 15 = 7\n",
        "5. n div 13 = -2, n mod 13 = 3\n"
      ]
    },
    {
      "cell_type": "markdown",
      "metadata": {
        "id": "7zUNBn349wfc"
      },
      "source": [
        "#### Your Answer:"
      ]
    },
    {
      "cell_type": "code",
      "execution_count": 16,
      "metadata": {},
      "outputs": [
        {
          "name": "stdout",
          "output_type": "stream",
          "text": [
            "1. n = 47\n",
            "2. n = 41\n",
            "3. n = 63\n",
            "4. n = 67\n",
            "5. n = -23\n"
          ]
        }
      ],
      "source": [
        "def divide(d, q, r):\n",
        "    return d*q+r\n",
        "\n",
        "nums = [(11,4,3), (5,8,1), (7,9,0), (15,4,7), (13,-2,3)]\n",
        "\n",
        "for i in range(len(nums)):\n",
        "    d = nums[i][0]\n",
        "    q = nums[i][1]\n",
        "    r = nums[i][2]\n",
        "    print(f\"{i+1}. n = {divide(d,q,r)}\")"
      ]
    },
    {
      "cell_type": "markdown",
      "metadata": {
        "id": "nSQsInDy9wfd"
      },
      "source": [
        "### Exercise 6.5\n",
        "#### Division Algorithm\n",
        "\n",
        "The procedural version of the Division Algorithm is presented as pseudocode in 9.1.3 and reproduced here:\n",
        "\n",
        "##### Definition 9.1.3: Procedural version of the Division Algorithm.\n",
        "\n",
        "Input: Integers n and d > 0.\n",
        "\n",
        "Output: q = n div d, and r = n mod d.\n",
        "\n",
        "```\n",
        "Case 1: n ≥ 0.         Case 2: n < 0.\n",
        "--------------         -------------- \n",
        "q := 0                 q := 0\n",
        "r := n                 r := n\n",
        "While ( r ≥ d )        While ( r < 0 )\n",
        "  q := q + 1             q := q - 1\n",
        "  r := r - d             r := r + d\n",
        "End-While              End-While\n",
        "```\n",
        "\n",
        "\n",
        "#### Your task is to complete the following.\n",
        "1. By hand, trace through the procedural version of the Division Algorithm using the following inputs to make sure you fully understand how the algorithm works.\n",
        "\n",
        "   $n=9$, $d=4$\n",
        "   \n",
        "   $n=-9$, $d=4$\n",
        "\n",
        "3. Implement the division algorithm shown above as a Python function that returns a tuple (q,r).\n",
        "\n",
        "4. Test your function on several numbers.\n"
      ]
    },
    {
      "cell_type": "markdown",
      "metadata": {
        "id": "8qavAhT99wfd"
      },
      "source": [
        "#### Your Answer:"
      ]
    },
    {
      "cell_type": "code",
      "execution_count": null,
      "metadata": {
        "id": "RjOqLGn49wfd"
      },
      "outputs": [],
      "source": [
        "def division(n, d):\n",
        "    # Your code here\n",
        "\n",
        "print(division(9,4)) # should be (2, 1)\n",
        "print(division(-9,4)) # should be (-3, 3)"
      ]
    },
    {
      "cell_type": "markdown",
      "metadata": {
        "id": "YbR168CW9wfe"
      },
      "source": [
        "### Exercise 6.6"
      ]
    },
    {
      "cell_type": "markdown",
      "metadata": {
        "id": "FXcBWJwG9wfe"
      },
      "source": [
        "Group the following numbers according to congruence mod 7. In other words, put two numbers in the same group if they are equivalent mod 7.\n",
        "\n",
        "{-48, -26, 1, 8, 3, 70, 24, 32, 11, 5, 27, 19, 49}"
      ]
    },
    {
      "cell_type": "markdown",
      "metadata": {
        "id": "hMGqgaSv9wfe"
      },
      "source": [
        "#### Your Answer:\n",
        "\n",
        "$a = b(mod \\ m)$"
      ]
    },
    {
      "cell_type": "code",
      "execution_count": 2,
      "metadata": {},
      "outputs": [
        {
          "name": "stdout",
          "output_type": "stream",
          "text": [
            "congruent mod 7: -48, 1\n",
            "congruent mod 7: -48, 8\n",
            "congruent mod 7: 1, -48\n",
            "congruent mod 7: 1, 8\n",
            "congruent mod 7: 8, -48\n",
            "congruent mod 7: 8, 1\n",
            "congruent mod 7: 3, 24\n",
            "congruent mod 7: 70, 49\n",
            "congruent mod 7: 24, 3\n",
            "congruent mod 7: 32, 11\n",
            "congruent mod 7: 11, 32\n",
            "congruent mod 7: 5, 19\n",
            "congruent mod 7: 19, 5\n",
            "congruent mod 7: 49, 70\n"
          ]
        },
        {
          "data": {
            "text/plain": [
              "[(1, -48),\n",
              " (2, -26),\n",
              " (1, 1),\n",
              " (1, 8),\n",
              " (3, 3),\n",
              " (0, 70),\n",
              " (3, 24),\n",
              " (4, 32),\n",
              " (4, 11),\n",
              " (5, 5),\n",
              " (6, 27),\n",
              " (5, 19),\n",
              " (0, 49)]"
            ]
          },
          "execution_count": 2,
          "metadata": {},
          "output_type": "execute_result"
        }
      ],
      "source": [
        "# a % m == b % m\n",
        "\n",
        "numbers = [-48, -26, 1, 8, 3, 70, 24, 32, 11, 5, 27, 19, 49]\n",
        "\n",
        "def congruent_mod(numbers, m):\n",
        "    for i in range(len(numbers)):\n",
        "        a = numbers[i]\n",
        "        for j in range(len(numbers)):\n",
        "            if i != j:\n",
        "                b = numbers[j]\n",
        "                if a % m == b % m:\n",
        "                    print(f'congruent mod {m}: {a}, {b}')\n",
        "            else:\n",
        "                pass\n",
        "\n",
        "congruent_mod(numbers, 7)\n",
        "\n",
        "# solution: \n",
        "nums = [-48, -26, 1, 8, 3, 70, 24, 32, 11, 5, 27, 19, 49]\n",
        "[*map(lambda x: (x%7, x), nums)]"
      ]
    },
    {
      "cell_type": "markdown",
      "metadata": {
        "id": "CoQC3r6E9wfe"
      },
      "source": [
        "### Exercise 6.7"
      ]
    },
    {
      "cell_type": "markdown",
      "metadata": {
        "id": "fwH4A9sZ9wfe"
      },
      "source": [
        "Give the prime factorization for the following numbers.\n",
        "\n",
        "1. 27\n",
        "2. 35\n",
        "3. 110\n",
        "4. 74\n",
        "5. 24\n",
        "6. 88"
      ]
    },
    {
      "cell_type": "markdown",
      "metadata": {
        "id": "GEbwwPDg9wfe"
      },
      "source": [
        "#### Your Answer:\n",
        "\n",
        "1. $3^3$\n",
        "2. $5 \\cdot 7$\n",
        "3. $5 \\cdot 2 \\cdot 11$\n",
        "4. $2 \\cdot 37$\n",
        "5. $2^3 \\cdot 3$\n",
        "6. $2^3 \\cdot 11$"
      ]
    },
    {
      "cell_type": "markdown",
      "metadata": {
        "id": "Us9umRIG9wff"
      },
      "source": [
        "### Exercise 6.8"
      ]
    },
    {
      "cell_type": "markdown",
      "metadata": {
        "id": "ZWRzwHS59wff"
      },
      "source": [
        "Find the GCD and LCM of the following numbers without using Python.\n",
        "\n",
        "1. $2^3 \\cdot 3^2 \\cdot 5$ and $2 \\cdot 3^3 \\cdot 5^2 \\cdot 7$\n",
        "2. $2 \\cdot 5^3 \\cdot 7 \\cdot 11^2$ and $2^3 \\cdot 3 \\cdot 5 \\cdot 11$\n",
        "3. $2^2 \\cdot 3 \\cdot 7^2 \\cdot 13$ and $2 \\cdot 3^2 \\cdot 5 \\cdot 7 \\cdot 13^2$\n",
        "3. $5!$ and $2 \\cdot 3 \\cdot 5$\n",
        "4. $19^3$ and $19^4$\n"
      ]
    },
    {
      "cell_type": "markdown",
      "metadata": {
        "id": "17GrT_-H9wff"
      },
      "source": [
        "#### Your Answer:\n",
        "\n",
        "1. GCM = $2^1 \\cdot 3^2 \\cdot 5^1 \\cdot 7^0$ = 90\n",
        "\n",
        "   LCD = $2^3 \\cdot 3^3 \\cdot 5^2 \\cdot 7^1$ = 37,800\n",
        "\n",
        "2. GCM = $2^1 \\cdot 3^0 \\cdot 5^1 \\cdot 7^0 \\cot 11^1$ = 110\n",
        "\n",
        "   LCD = $2^3 \\cdot 3^1 \\cdot 5^3 \\cdot 7^1 \\cdot 11^2$ = 1320\n",
        "\n",
        "3. GCM = $2^1 \\cdot 3^1 \\cdot 5^0 \\cdot 7^1 \\cot 13^1$ = 546\n",
        "\n",
        "   LCD = $2^2 \\cdot 3^2 \\cdot 5^1 \\cdot 7^2 \\cdot 13^2$ = 298,116\n",
        "\n",
        "4. GCM = $2^1 \\cdot 3^1 \\cdot 5^1$ = 30\n",
        "\n",
        "   LCD = $2^3 \\cdot 3^1 \\cdot 5^1$ = 120\n",
        "\n",
        "5. GCM = $19^3$ = 6859\n",
        "\n",
        "   LCD = $19^4$ = 130,321"
      ]
    },
    {
      "cell_type": "markdown",
      "metadata": {
        "id": "LnFX-vrv9wff"
      },
      "source": [
        "### Exercise 6.9"
      ]
    },
    {
      "cell_type": "markdown",
      "metadata": {
        "id": "ZlG625CW9wff"
      },
      "source": [
        "Here is a brute-force algorithm for factoring an integer $N$ based on Figure 9.4.1:\n",
        "\n",
        "```\n",
        "Input: Integer N greater than 1.\n",
        "Output: \"Prime\" if N is prime. If N is composite, return two integers greater than 1 whose product is N.\n",
        "\n",
        "For x = 2 to N-1\n",
        "      If x evenly divides N,\n",
        "            Return( x, N/x )\n",
        "End-for\n",
        "\n",
        "Return( \"Prime\" )\n",
        "```"
      ]
    },
    {
      "cell_type": "markdown",
      "metadata": {
        "id": "73DoMuP79wff"
      },
      "source": [
        "Write a Python function in the code block below to implement this algorithm.\n",
        "\n",
        "After writing your code in the block below, complete each of the following.\n",
        "\n",
        "1. Try a few numbers for the input $N$. Does this algorithm work well for large numbers? \n",
        "\n",
        "2. Try these numbers (all of which are Primes):\n",
        "19, 89, 1289, 7919\n",
        "\n",
        "3. Try these numbers (which are not Primes):\n",
        "18, 91, 1287, 7921\n",
        "\n",
        "4. Try each of these numbers: 39916801, 433494437, 87178291199. Does it finish in a reasonable amount of time?\n",
        "\n",
        "5. Now modifiy this algorithm to make it more efficient by only testing factors up to $\\sqrt{N}$. Try it again with the numbers in step 4. Is it faster?\n"
      ]
    },
    {
      "cell_type": "code",
      "execution_count": 11,
      "metadata": {
        "id": "d5X036Uy9wff"
      },
      "outputs": [
        {
          "name": "stdout",
          "output_type": "stream",
          "text": [
            "6\n"
          ]
        }
      ],
      "source": [
        "# Your code here for steps 1-4\n",
        "\n",
        "def brute_force(n):\n",
        "    for x in range(2, n-1):\n",
        "        if x % n == 0:\n",
        "            return f\"{x}, {n/x}\" #If N is composite, return two integers greater than 1 whose product is N.\n",
        "    return n #\"Prime\" if N is prime.\n",
        "\n",
        "print(brute_force(6))"
      ]
    },
    {
      "cell_type": "code",
      "execution_count": null,
      "metadata": {
        "id": "vF_mQ0r59wfg"
      },
      "outputs": [],
      "source": [
        "# Your code here for step 5"
      ]
    },
    {
      "cell_type": "markdown",
      "metadata": {
        "id": "HCjgnJwTbbhN"
      },
      "source": [
        "----------------------\n",
        "## Sample Solutions\n",
        "\n",
        "**Note**:\n",
        "Sample solutions are provided in order to help you **learn**. The purpose of these exercises is not to simply turn in the answers, but to take the time and effort to learn and understand the material. You are encouraged to work the problems first, then when you are satisfied that you have the correct answer, look at the sample solution and compare it with yours. "
      ]
    },
    {
      "cell_type": "markdown",
      "metadata": {
        "id": "WWDD0Cgb9wfg"
      },
      "source": [
        "### Sample Solution 6.1"
      ]
    },
    {
      "cell_type": "code",
      "execution_count": null,
      "metadata": {
        "id": "59lFxUW_9wfg"
      },
      "outputs": [],
      "source": [
        "# Define a function to perform integer division, \n",
        "# returning an integer and a remainder.\n",
        "integer_division = lambda a,b: (a//b, a%b)\n",
        "\n",
        "result = integer_division(9,4)\n",
        "print(f'{result[0]}r{result[1]}')\n"
      ]
    },
    {
      "cell_type": "markdown",
      "metadata": {
        "id": "bwoE_6CI9wfg"
      },
      "source": [
        "### Sample Solution 6.2"
      ]
    },
    {
      "cell_type": "code",
      "execution_count": null,
      "metadata": {
        "id": "Lg4ebe-x9wfg"
      },
      "outputs": [],
      "source": [
        "divides = lambda d,n: True if n%d == 0 else (n//d, n%d)\n",
        "\n",
        "print('1.', divides(3,12))\n",
        "print('2.', divides(3,13))\n",
        "print('3.', divides(14,58))\n",
        "print('4.', divides(73,1752))\n",
        "print('5.', divides(73,1753))"
      ]
    },
    {
      "cell_type": "markdown",
      "metadata": {
        "id": "he8dqzle9wfh"
      },
      "source": [
        "### Sample Solution 6.3"
      ]
    },
    {
      "cell_type": "code",
      "execution_count": null,
      "metadata": {
        "id": "k4wP3Aur9wfh"
      },
      "outputs": [],
      "source": [
        "divisors = lambda n: {n//x for x in range(1,n+1) if n%x == 0}\n",
        "\n",
        "print('1.', sorted(divisors(36)))\n",
        "print('2.', sorted(divisors(24)))\n",
        "print('3.', sorted(divisors(56)))\n",
        "print('4.', sorted(divisors(100)))\n",
        "print('5.', sorted(divisors(116)))"
      ]
    },
    {
      "cell_type": "markdown",
      "metadata": {
        "id": "-UaC5tsk9wfh"
      },
      "source": [
        "### Sample Solution Exercise 6.4"
      ]
    },
    {
      "cell_type": "markdown",
      "metadata": {
        "id": "zC6CRIId9wfh"
      },
      "source": [
        "The division algorithm says $n = dq + r$. So we can solve for $n$ by plugging in $d$, $q$, and $r$.\n",
        "\n",
        "1. n = 11*4 + 3 = 47\n",
        "2. n = 5*8 + 1 = 41\n",
        "3. n = 7*9 + 0 = 63\n",
        "4. n = 15*4 + 7 = 67\n",
        "5. n = -2*13 + 3 = -23"
      ]
    },
    {
      "cell_type": "markdown",
      "metadata": {
        "id": "bbF29_1t9wfh"
      },
      "source": [
        "### Sample Solution 6.5"
      ]
    },
    {
      "cell_type": "code",
      "execution_count": 12,
      "metadata": {
        "id": "huOtN7849wfh"
      },
      "outputs": [
        {
          "name": "stdout",
          "output_type": "stream",
          "text": [
            "(2, 1)\n",
            "(-3, 3)\n"
          ]
        }
      ],
      "source": [
        "# Solution\n",
        "\n",
        "def division(n, d):\n",
        "    q = 0\n",
        "    r = n\n",
        "    \n",
        "    # Case 1\n",
        "    if n >= 0:\n",
        "        while r >= d:\n",
        "            q = q + 1\n",
        "            r = r - d\n",
        "\n",
        "    # Case 2\n",
        "    else:\n",
        "        while r < 0:\n",
        "            q = q - 1\n",
        "            r = r + d\n",
        "    \n",
        "    return (q, r)\n",
        "\n",
        "print(division(9,4)) #(2,1)\n",
        "print(division(-9,4)) #(-3,3)"
      ]
    },
    {
      "cell_type": "markdown",
      "metadata": {
        "id": "4ULAM9nK9wfh"
      },
      "source": [
        "### Sample Solution 6.6"
      ]
    },
    {
      "cell_type": "markdown",
      "metadata": {
        "id": "sxrkUrQ29wfi"
      },
      "source": [
        "0 mod 7: 49, 70\n",
        "\n",
        "1 mod 7: -48, 1, 8 \n",
        "\n",
        "2 mod 7: -26\n",
        "\n",
        "3 mod 7: 3, 24\n",
        "\n",
        "4 mod 7: 11, 32\n",
        "\n",
        "5 mod 7: 5, 19\n",
        "\n",
        "6 mod 7: 27"
      ]
    },
    {
      "cell_type": "code",
      "execution_count": null,
      "metadata": {
        "id": "npSrjdAI9wfi"
      },
      "outputs": [],
      "source": [
        "# Some python to help quickly find the solution\n",
        "nums = [-48, -26, 1, 8, 3, 70, 24, 32, 11, 5, 27, 19, 49]\n",
        "[*map(lambda x: (x%7, x), nums)]"
      ]
    },
    {
      "cell_type": "markdown",
      "metadata": {
        "id": "GpxWDw2x9wfi"
      },
      "source": [
        "### Sample Solution 6.7"
      ]
    },
    {
      "cell_type": "markdown",
      "metadata": {
        "id": "JsOdYw5G9wfi"
      },
      "source": [
        "1. $3^3$\n",
        "2. $5 \\cdot 7$\n",
        "3. $2 \\cdot 5 \\cdot 11$\n",
        "4. $2 \\cdot 37$\n",
        "5. $2^3 \\cdot 3$\n",
        "6. $2^3 \\cdot 11$ \n"
      ]
    },
    {
      "cell_type": "markdown",
      "metadata": {
        "id": "BUEYyMz09wfi"
      },
      "source": [
        "### Sample Solution 6.8"
      ]
    },
    {
      "cell_type": "markdown",
      "metadata": {
        "id": "AZrv_yUS9wfi"
      },
      "source": [
        "1. GCD: $2 \\cdot 3^2 \\cdot 5$, LCM: $2^3 \\cdot 3^3 \\cdot 5^2 \\cdot 7$\n",
        "2. GCD: $2 \\cdot 5 \\cdot 11$, LCM: $2^3 \\cdot 3 \\cdot 5^3 \\cdot 7 \\cdot 11^2$\n",
        "3. GCD: $2 \\cdot 3 \\cdot 7 \\cdot 13$, LCM: $2^2 \\cdot 3^2 \\cdot 5 \\cdot 7^2 \\cdot 13^2$\n",
        "4. GCD: $2 \\cdot 3 \\cdot 5$, LCM: $2^3 \\cdot 3 \\cdot 5$\n",
        "5. GCD: $19^3$, LCM: $19^4$\n"
      ]
    },
    {
      "cell_type": "markdown",
      "metadata": {
        "id": "bmeJOcpu9wfi"
      },
      "source": [
        "### Sample Solution 6.9"
      ]
    },
    {
      "cell_type": "code",
      "execution_count": null,
      "metadata": {
        "id": "l_cmthyg9wfi"
      },
      "outputs": [],
      "source": [
        "# sample solution\n",
        "def factor(n):\n",
        "    for x in range(2, n):\n",
        "        if n % x == 0: # x evenly divides n\n",
        "            return (x, n//x)\n",
        "    return (\"Prime\")\n",
        "\n",
        "# Pick some random numbers\n",
        "import random\n",
        "random_nums = [random.randrange(1,1000) for _ in range(10)]\n",
        "print(random_nums)\n",
        "\n",
        "\n",
        "# Try out our algorithm with each of the random numbers\n",
        "result = [*map(lambda n: factor(n), random_nums)]\n",
        "print(result)"
      ]
    },
    {
      "cell_type": "code",
      "execution_count": null,
      "metadata": {
        "id": "L95ZItjF9wfj"
      },
      "outputs": [],
      "source": [
        "# Try with some other numbers\n",
        "primes = [19, 89, 1289, 7919]\n",
        "result = [*map(lambda n: factor(n), primes)]\n",
        "print(result)\n",
        "\n",
        "not_primes = [18, 91, 1287, 7921]\n",
        "result = [*map(lambda n: factor(n), not_primes)]\n",
        "print(result)"
      ]
    },
    {
      "cell_type": "code",
      "execution_count": null,
      "metadata": {
        "id": "Tyb5w1sk9wfj"
      },
      "outputs": [],
      "source": [
        "# Try with a larger number\n",
        "n = 39916801 # ~2s\n",
        "# n = 433494437 # ~20s\n",
        "# n = 8589935681 # ~1600s\n",
        "# n = 87178291199 # ?\n",
        "# n = 10888869450418352160768000001 # ?\n",
        "factor(n)"
      ]
    },
    {
      "cell_type": "markdown",
      "metadata": {
        "id": "NQj1JATW9wfj"
      },
      "source": [
        "Now modifiy this algorithm to make it more efficient by only testing factors up to $\\sqrt{N}$.\n"
      ]
    },
    {
      "cell_type": "code",
      "execution_count": null,
      "metadata": {
        "id": "PvkRzd449wfj"
      },
      "outputs": [],
      "source": [
        "# sample solution\n",
        "from math import floor, sqrt\n",
        "def factor_2(n):\n",
        "    for x in range(2, floor(sqrt(n))):\n",
        "        if n % x == 0: # x evenly divides n\n",
        "            return (x, n//x)\n",
        "    return (\"Prime\")\n",
        "\n"
      ]
    }
  ],
  "metadata": {
    "colab": {
      "collapsed_sections": [
        "HCjgnJwTbbhN"
      ],
      "name": "cse280-homework-06.ipynb",
      "provenance": [],
      "toc_visible": true
    },
    "interpreter": {
      "hash": "61a8a38449cd87730cfc569f03425f5307feff6cab1037d5194af39db80abeb1"
    },
    "kernelspec": {
      "display_name": "Python 3.9.8 32-bit",
      "language": "python",
      "name": "python3"
    },
    "language_info": {
      "codemirror_mode": {
        "name": "ipython",
        "version": 3
      },
      "file_extension": ".py",
      "mimetype": "text/x-python",
      "name": "python",
      "nbconvert_exporter": "python",
      "pygments_lexer": "ipython3",
      "version": "3.9.8"
    }
  },
  "nbformat": 4,
  "nbformat_minor": 0
}
