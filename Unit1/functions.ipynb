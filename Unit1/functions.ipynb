{
 "cells": [
  {
   "cell_type": "markdown",
   "metadata": {},
   "source": [
    "# Functions"
   ]
  },
  {
   "cell_type": "markdown",
   "metadata": {},
   "source": [
    "### domain: \n",
    "set of all possible inputs\n",
    "\n",
    "### codomain or target: \n",
    "set of all possible outputs\n",
    "\n",
    "### f is a function from set A to set B\n",
    "\n",
    "### range or image:\n",
    "Thinfs in codomain that get used. \n",
    "\n",
    "$ f: A \\rightarrow B $ \n"
   ]
  },
  {
   "cell_type": "markdown",
   "metadata": {},
   "source": [
    "## Floor and Ceiling"
   ]
  },
  {
   "cell_type": "markdown",
   "metadata": {},
   "source": [
    "floor: $R \\rightarrow Z$, where floor(x) is the largest integer such that y <= x\n",
    "\n",
    "$floor(x) = \\lfloor x \\rfloor$\n",
    "\n",
    "ceiling: $R \\rightarrow Z$, where celing(x) is the largest integer such that y >= x\n",
    "\n",
    "$celing(x) = \\lceil x \\rceil$"
   ]
  }
 ],
 "metadata": {
  "interpreter": {
   "hash": "61a8a38449cd87730cfc569f03425f5307feff6cab1037d5194af39db80abeb1"
  },
  "kernelspec": {
   "display_name": "Python 3.9.8 32-bit",
   "language": "python",
   "name": "python3"
  },
  "language_info": {
   "name": "python",
   "version": "3.9.8"
  },
  "orig_nbformat": 4
 },
 "nbformat": 4,
 "nbformat_minor": 2
}
