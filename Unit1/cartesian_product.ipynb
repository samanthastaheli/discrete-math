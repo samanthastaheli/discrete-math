{
 "cells": [
  {
   "cell_type": "markdown",
   "metadata": {},
   "source": [
    "# Cartesian Product"
   ]
  },
  {
   "cell_type": "markdown",
   "metadata": {},
   "source": [
    "## Ordered Triple \n",
    "ordered n-tuple or n-tuple"
   ]
  },
  {
   "cell_type": "code",
   "execution_count": 7,
   "metadata": {},
   "outputs": [
    {
     "data": {
      "text/plain": [
       "{(2, 2), (2, 3), (3, 2), (3, 3)}"
      ]
     },
     "execution_count": 7,
     "metadata": {},
     "output_type": "execute_result"
    }
   ],
   "source": [
    "A = (0,2,3)\n",
    "B = (2,3)\n",
    "C = (1,4)\n",
    "\n",
    "# {(a,b,c) for a in A for b in B for c in C}\n",
    "{(a,b) for a in B for b in B}"
   ]
  },
  {
   "cell_type": "code",
   "execution_count": 2,
   "metadata": {},
   "outputs": [
    {
     "data": {
      "text/plain": [
       "{('a', 1, 1),\n",
       " ('a', 1, 2),\n",
       " ('a', 1, 3),\n",
       " ('a', 2, 1),\n",
       " ('a', 2, 2),\n",
       " ('a', 2, 3),\n",
       " ('a', 3, 1),\n",
       " ('a', 3, 2),\n",
       " ('a', 3, 3),\n",
       " ('b', 1, 1),\n",
       " ('b', 1, 2),\n",
       " ('b', 1, 3),\n",
       " ('b', 2, 1),\n",
       " ('b', 2, 2),\n",
       " ('b', 2, 3),\n",
       " ('b', 3, 1),\n",
       " ('b', 3, 2),\n",
       " ('b', 3, 3)}"
      ]
     },
     "execution_count": 2,
     "metadata": {},
     "output_type": "execute_result"
    }
   ],
   "source": [
    "# A x B x B\n",
    "A=(\"a\",\"b\")\n",
    "B=(1,2,3)\n",
    "\n",
    "{(a,b,c) for a in A for b in B for c in B}"
   ]
  },
  {
   "cell_type": "code",
   "execution_count": 3,
   "metadata": {},
   "outputs": [
    {
     "data": {
      "text/plain": [
       "{(0, 'c', 'c'),\n",
       " (0, 'c', 'd'),\n",
       " (0, 'd', 'c'),\n",
       " (0, 'd', 'd'),\n",
       " (1, 'c', 'c'),\n",
       " (1, 'c', 'd'),\n",
       " (1, 'd', 'c'),\n",
       " (1, 'd', 'd'),\n",
       " (2, 'c', 'c'),\n",
       " (2, 'c', 'd'),\n",
       " (2, 'd', 'c'),\n",
       " (2, 'd', 'd')}"
      ]
     },
     "execution_count": 3,
     "metadata": {},
     "output_type": "execute_result"
    }
   ],
   "source": [
    "# B x A x A\n",
    "A=(\"c\",\"d\")\n",
    "B=(0,1,2)\n",
    "\n",
    "{(a,b,c) for a in B for b in A for c in A}"
   ]
  },
  {
   "cell_type": "code",
   "execution_count": 7,
   "metadata": {},
   "outputs": [
    {
     "data": {
      "text/plain": [
       "3375"
      ]
     },
     "execution_count": 7,
     "metadata": {},
     "output_type": "execute_result"
    }
   ],
   "source": [
    "# How many 3 scoop icecream cone combos there are if there are 15 flavors of icecream?\n",
    "\n",
    "flavors = range(0,15)\n",
    "\n",
    "cones = {(scoop1, scoop2, scoop3) for scoop1 in flavors for scoop2 in flavors for scoop3 in flavors}\n",
    "\n",
    "len(cones)"
   ]
  },
  {
   "cell_type": "code",
   "execution_count": 3,
   "metadata": {},
   "outputs": [
    {
     "data": {
      "text/plain": [
       "{('a', 'a', 'a'),\n",
       " ('a', 'a', 'b'),\n",
       " ('a', 'a', 'c'),\n",
       " ('a', 'a', 'd'),\n",
       " ('a', 'b', 'a'),\n",
       " ('a', 'b', 'b'),\n",
       " ('a', 'b', 'c'),\n",
       " ('a', 'b', 'd'),\n",
       " ('a', 'c', 'a'),\n",
       " ('a', 'c', 'b'),\n",
       " ('a', 'c', 'c'),\n",
       " ('a', 'c', 'd'),\n",
       " ('a', 'd', 'a'),\n",
       " ('a', 'd', 'b'),\n",
       " ('a', 'd', 'c'),\n",
       " ('a', 'd', 'd'),\n",
       " ('b', 'a', 'a'),\n",
       " ('b', 'a', 'b'),\n",
       " ('b', 'a', 'c'),\n",
       " ('b', 'a', 'd'),\n",
       " ('b', 'b', 'a'),\n",
       " ('b', 'b', 'b'),\n",
       " ('b', 'b', 'c'),\n",
       " ('b', 'b', 'd'),\n",
       " ('b', 'c', 'a'),\n",
       " ('b', 'c', 'b'),\n",
       " ('b', 'c', 'c'),\n",
       " ('b', 'c', 'd'),\n",
       " ('b', 'd', 'a'),\n",
       " ('b', 'd', 'b'),\n",
       " ('b', 'd', 'c'),\n",
       " ('b', 'd', 'd'),\n",
       " ('c', 'a', 'a'),\n",
       " ('c', 'a', 'b'),\n",
       " ('c', 'a', 'c'),\n",
       " ('c', 'a', 'd'),\n",
       " ('c', 'b', 'a'),\n",
       " ('c', 'b', 'b'),\n",
       " ('c', 'b', 'c'),\n",
       " ('c', 'b', 'd'),\n",
       " ('c', 'c', 'a'),\n",
       " ('c', 'c', 'b'),\n",
       " ('c', 'c', 'c'),\n",
       " ('c', 'c', 'd'),\n",
       " ('c', 'd', 'a'),\n",
       " ('c', 'd', 'b'),\n",
       " ('c', 'd', 'c'),\n",
       " ('c', 'd', 'd'),\n",
       " ('d', 'a', 'a'),\n",
       " ('d', 'a', 'b'),\n",
       " ('d', 'a', 'c'),\n",
       " ('d', 'a', 'd'),\n",
       " ('d', 'b', 'a'),\n",
       " ('d', 'b', 'b'),\n",
       " ('d', 'b', 'c'),\n",
       " ('d', 'b', 'd'),\n",
       " ('d', 'c', 'a'),\n",
       " ('d', 'c', 'b'),\n",
       " ('d', 'c', 'c'),\n",
       " ('d', 'c', 'd'),\n",
       " ('d', 'd', 'a'),\n",
       " ('d', 'd', 'b'),\n",
       " ('d', 'd', 'c'),\n",
       " ('d', 'd', 'd')}"
      ]
     },
     "execution_count": 3,
     "metadata": {},
     "output_type": "execute_result"
    }
   ],
   "source": [
    "D = (\"a\",\"b\", \"c\", \"d\")\n",
    "\n",
    "{(a,b,c) for a in D for b in D for c in D}"
   ]
  }
 ],
 "metadata": {
  "interpreter": {
   "hash": "61a8a38449cd87730cfc569f03425f5307feff6cab1037d5194af39db80abeb1"
  },
  "kernelspec": {
   "display_name": "Python 3.9.8 32-bit",
   "language": "python",
   "name": "python3"
  },
  "language_info": {
   "codemirror_mode": {
    "name": "ipython",
    "version": 3
   },
   "file_extension": ".py",
   "mimetype": "text/x-python",
   "name": "python",
   "nbconvert_exporter": "python",
   "pygments_lexer": "ipython3",
   "version": "3.9.8"
  },
  "orig_nbformat": 4
 },
 "nbformat": 4,
 "nbformat_minor": 2
}
