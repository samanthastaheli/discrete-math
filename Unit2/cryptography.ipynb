{
 "cells": [
  {
   "cell_type": "markdown",
   "metadata": {},
   "source": [
    "# Cryptography"
   ]
  },
  {
   "cell_type": "markdown",
   "metadata": {},
   "source": [
    "## Vocab\n",
    "\n",
    "- sender\n",
    "- receiver\n",
    "- encrypts\n",
    "- plaintext \n",
    "- ciphertext\n",
    "- secret key\n",
    "- decrypt"
   ]
  },
  {
   "cell_type": "markdown",
   "metadata": {},
   "source": [
    "## Uppercase Letters Represented by Number\n",
    "\n",
    "| LETTER | NUMBER |\n",
    "| :---: | :---: |\n",
    "| A | 01 |\n",
    "| B | 02 |\n",
    "| C | 03 |\n",
    "| D | 04 |\n",
    "| E | 05 |\n",
    "| F | 06 |\n",
    "| G | 07 |\n",
    "| H | 08 |\n",
    "| I | 09 |\n",
    "| J | 10 |\n",
    "| K | 11 |\n",
    "| L | 12 |\n",
    "| M | 13 |\n",
    "| N | 14 |\n",
    "| O | 15 |\n",
    "| P | 16 |\n",
    "| Q | 17 |\n",
    "| R | 18 |\n",
    "| S | 19 |\n",
    "| T | 20 |\n",
    "| U | 21 |\n",
    "| V | 22 |\n",
    "| W | 23 |\n",
    "| X | 24 |\n",
    "| Y | 25 |\n",
    "| Z | 26 |\n",
    "\n",
    "\n",
    "\n"
   ]
  },
  {
   "cell_type": "markdown",
   "metadata": {},
   "source": [
    "## RSA cryptosystem"
   ]
  }
 ],
 "metadata": {
  "language_info": {
   "name": "python"
  },
  "orig_nbformat": 4
 },
 "nbformat": 4,
 "nbformat_minor": 2
}
