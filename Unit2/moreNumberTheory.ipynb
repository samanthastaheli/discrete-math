{
 "cells": [
  {
   "cell_type": "markdown",
   "metadata": {},
   "source": [
    "# More Number Theory"
   ]
  },
  {
   "cell_type": "markdown",
   "metadata": {},
   "source": [
    "## GCD\n",
    "\n",
    "Greated commmon denominator\n",
    "\n",
    "Largest number that divides both numbers."
   ]
  },
  {
   "cell_type": "markdown",
   "metadata": {},
   "source": [
    "### EXAMPLE\n",
    "\n",
    "What is GCM of ?"
   ]
  },
  {
   "cell_type": "markdown",
   "metadata": {},
   "source": [
    "## LCM \n",
    "\n",
    "Least common multiple\n",
    "\n",
    "Smallest positive integer that divdes both numbers."
   ]
  },
  {
   "cell_type": "markdown",
   "metadata": {},
   "source": [
    "### EXAMPLE\n",
    "\n",
    "What is LCM of 3 and 5?\n",
    "\n",
    "3 * 5 = 15"
   ]
  },
  {
   "cell_type": "markdown",
   "metadata": {},
   "source": [
    "## Prime Factorization\n",
    "\n",
    "### EXAMPLE\n",
    "\n",
    "__What is prime factorization of 26?__\n",
    "\n",
    "2 * 13\n",
    "\n",
    "__What is prime factorization of 36?__\n",
    "\n",
    "```\n",
    "  36\n",
    " /  \\\n",
    "2    18\n",
    "    /  \\\n",
    "   2    9\n",
    "       / \\\n",
    "      3   3\n",
    "```\n",
    "\n",
    "$2^2 * 3^2$\n",
    "\n",
    "__What is GCD of (26, 36)?__\n",
    "\n",
    "$26 = 2^1 * 3^0 * 13^1$\n",
    "\n",
    "$36 = 2^2 * 3^2 * 13^0$\n",
    "\n",
    "$gcd(26, 36) = 2$\n",
    "\n",
    "$lcm(26, 36) = 2^2 * 3^2 * 13 = 468$"
   ]
  },
  {
   "cell_type": "code",
   "execution_count": 1,
   "metadata": {},
   "outputs": [
    {
     "data": {
      "text/plain": [
       "468"
      ]
     },
     "execution_count": 1,
     "metadata": {},
     "output_type": "execute_result"
    }
   ],
   "source": [
    "2**2 * 3**2 * 13"
   ]
  },
  {
   "cell_type": "markdown",
   "metadata": {},
   "source": [
    "## Prime Number Theorm\n",
    "\n",
    "There are infinate number of primes. \n",
    "\n",
    "- $\\pi (x)$ is number of primes from 2 to x\n",
    "    - $lim x \\rightarrow \\infinte ()$\n",
    "    - $$"
   ]
  }
 ],
 "metadata": {
  "interpreter": {
   "hash": "61a8a38449cd87730cfc569f03425f5307feff6cab1037d5194af39db80abeb1"
  },
  "kernelspec": {
   "display_name": "Python 3.9.8 32-bit",
   "language": "python",
   "name": "python3"
  },
  "language_info": {
   "codemirror_mode": {
    "name": "ipython",
    "version": 3
   },
   "file_extension": ".py",
   "mimetype": "text/x-python",
   "name": "python",
   "nbconvert_exporter": "python",
   "pygments_lexer": "ipython3",
   "version": "3.9.8"
  },
  "orig_nbformat": 4
 },
 "nbformat": 4,
 "nbformat_minor": 2
}
