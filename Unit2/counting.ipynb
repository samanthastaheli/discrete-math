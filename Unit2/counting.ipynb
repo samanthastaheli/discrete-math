{
 "cells": [
  {
   "cell_type": "markdown",
   "metadata": {},
   "source": [
    "# Counting"
   ]
  },
  {
   "cell_type": "markdown",
   "metadata": {},
   "source": [
    "## Counting Rules\n",
    "\n",
    "1. sum and product rule\n",
    "2. couting permutations\n",
    "3. counting subsets\n",
    "4. counting by complement\n",
    "5. counting multisets"
   ]
  }
 ],
 "metadata": {
  "language_info": {
   "name": "python"
  },
  "orig_nbformat": 4
 },
 "nbformat": 4,
 "nbformat_minor": 2
}
